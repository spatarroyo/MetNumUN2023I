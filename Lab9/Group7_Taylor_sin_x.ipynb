{
  "nbformat": 4,
  "nbformat_minor": 0,
  "metadata": {
    "colab": {
      "provenance": []
    },
    "kernelspec": {
      "name": "python3",
      "display_name": "Python 3"
    },
    "language_info": {
      "name": "python"
    }
  },
  "cells": [
    {
      "cell_type": "markdown",
      "metadata": {
        "id": "ZuGY2wUTjFDm"
      },
      "source": [
        "# Taylor series of $sin(x)$\n",
        "\n",
        "$$ \n",
        "\\begin{array}{lll}\n",
        "sin (x)  & =  & \\sum_{n=0}^{\\infty} (-1)^n \\frac{x^{2n + 1}}{(2n+1)!} \\\\\n",
        "        & = & x - \\frac{x^3}{3!} + \\frac{x^5}{5!} +\\cdots+ (-1)^n \\frac{x^{2n + 1}}{(2n+1)!} + \\cdots  \\\\\n",
        "       & = & x - \\frac{x^3}{3!} +  \\frac{x^5}{5!}  \\cdots+ (-1)^n \\frac{x^{2n + 1}}{(2n+1)!} + O(x^{n+1}) \n",
        "\\end{array} \n",
        "$$\n",
        "\n",
        "\n",
        "Approximation \n",
        "$$ sin (x)  \\approx x - \\frac{x^3}{3!} + \\frac{x^5}{5!} - \\frac{x^7}{7!}+ \\cdots+ (-1)^n \\frac{x^{2n + 1}}{(2n+1)!}$$\n"
      ]
    },
    {
      "cell_type": "markdown",
      "source": [
        "Interact code in Sagemath for $sin(x)$\n",
        "\n",
        "```python\n",
        "# Interact Taylor Series of $$f(x) = sin(x)$$\n",
        "# Explanatory example: Taylor Series – wiki.sagemath.org/interact https://wiki.sagemath.org/interact\n",
        "x   = SR.var('x')\n",
        "x0  = 0\n",
        "f   = sin(x)\n",
        "p   = plot(f, -40, 40, thickness=2)\n",
        "dot = point((x0, f(x=x0)), pointsize=80, rgbcolor=(1, 0, 0))\n",
        "\n",
        "@interact\n",
        "def _(order=slider([0 .. 50])):\n",
        "  ft = f.taylor(x, x0, order)\n",
        "  pt = plot(ft, -40, 40, color='green', thickness=2)\n",
        "  pretty_print(html(r'$f(x)\\;=\\;%s$' % latex(f)))\n",
        "  pretty_print(html(r'$\\hat{f}(x;%s)\\;=\\;%s+\\mathcal{O}(x^{%s})$' % (x0, latex(ft), order+1)))\n",
        "  show(dot + p + pt, ymin=-1, ymax=1)\n",
        "```"
      ],
      "metadata": {
        "id": "eFh_HdXmjdfu"
      }
    },
    {
      "cell_type": "markdown",
      "source": [
        "Animate code in Sagemath for $e^x$\n",
        "```python\n",
        "# Animate  Taylor Series of $$f(x) = sin(x)$$\n",
        "# MCS 320: Introduction to Symbolic Computation - Jan Verschelde, Mathematics, U. Illinois at Chicago  –\n",
        "# http://homepages.math.uic.edu/~jan/mcs320/mcs320notes/lec27.html#\n",
        "x   = SR.var('x')\n",
        "x0  = 0\n",
        "f   = sin(x)\n",
        "p   = plot(f, -3, 3, thickness=2,legend_label='f(x) = sin(x)')\n",
        "dot = point((x0, f(x=x0)), pointsize=80, rgbcolor=(1, 0, 0))\n",
        "ptaylor = [plot(f.taylor(x, x0, order), -3,3, color='green', thickness=2, legend_label= \"Taylor \" + str(order) +\": \"+ str(f.taylor(x, x0, order))) for order in range(5)]\n",
        "\n",
        "frames = [p+dot+ptaylor[int(order/12)] for order in range(60)]\n",
        "a = animate(frames, ymin=-10, ymax=10)\n",
        "a.show()\n",
        "a.save('sin_of_x_taylor_animation_1.gif')\n",
        "```"
      ],
      "metadata": {
        "id": "y90QDm3UkzaF"
      }
    },
    {
      "cell_type": "markdown",
      "source": [
        " ![Taylor sin(x) img](https://raw.githubusercontent.com/acardenasor/MetNumUN2022I/main/Lab7/TaylorSeriesSinofx.jpg)"
      ],
      "metadata": {
        "id": "c_Hz3jQijj8H"
      }
    },
    {
      "cell_type": "markdown",
      "source": [
        " ![Taylor gif](https://raw.githubusercontent.com/acardenasor/MetNumUN2022I/main/Lab7/sin_of_x_taylor_animation_1.gif)"
      ],
      "metadata": {
        "id": "Gh89PrFBjlBu"
      }
    },
    {
      "cell_type": "markdown",
      "metadata": {
        "id": "qylNUuxmQUzq"
      },
      "source": [
        "#What is value of the partial Taylor series of $sin(x)$ up to the  $10$-th term of $sin(x)$ about $0$ (Maclaurin  series) for $x=2$\n",
        "$$ sin{(x)} \\approx \\sum_{i=0}^{n} (-1)^i \\frac{x^{2i+1}}{(2i+1)!}  = x - \\frac{x^3}{3!} + \\frac{x^5}{5!} - \\frac{x^7}{7!}  + \\cdots+ \\frac{x^{2n+1}}{(2n+1)!}$$ \n"
      ]
    },
    {
      "cell_type": "code",
      "metadata": {
        "colab": {
          "base_uri": "https://localhost:8080/"
        },
        "id": "UZyEw-hiQNU7",
        "outputId": "a75b2a42-8a8a-4811-c0e7-599d9df31ca0"
      },
      "source": [
        "\n",
        "import math\n",
        "\n",
        "n = 10\n",
        "x = 2\n",
        "sin_to_x = 0\n",
        "\n",
        "for i in range(n+1):\n",
        "    sin_to_x += ((-1)**i)*(x**(2*i+1)/math.factorial(2*i+1)) \n",
        "    print(i, 'sin_to_x ≈ ∑_{i=0}^'+str(i),'(-1)^i (x^{2i+1})/((2i+1)!) = =',sin_to_x)  \n",
        "    \n",
        "print('math.sin(x) = ',math.sin(x))"
      ],
      "execution_count": 1,
      "outputs": [
        {
          "output_type": "stream",
          "name": "stdout",
          "text": [
            "0 sin_to_x ≈ ∑_{i=0}^0 (-1)^i (x^{2i+1})/((2i+1)!) = = 2.0\n",
            "1 sin_to_x ≈ ∑_{i=0}^1 (-1)^i (x^{2i+1})/((2i+1)!) = = 0.6666666666666667\n",
            "2 sin_to_x ≈ ∑_{i=0}^2 (-1)^i (x^{2i+1})/((2i+1)!) = = 0.9333333333333333\n",
            "3 sin_to_x ≈ ∑_{i=0}^3 (-1)^i (x^{2i+1})/((2i+1)!) = = 0.9079365079365079\n",
            "4 sin_to_x ≈ ∑_{i=0}^4 (-1)^i (x^{2i+1})/((2i+1)!) = = 0.909347442680776\n",
            "5 sin_to_x ≈ ∑_{i=0}^5 (-1)^i (x^{2i+1})/((2i+1)!) = = 0.9092961359628027\n",
            "6 sin_to_x ≈ ∑_{i=0}^6 (-1)^i (x^{2i+1})/((2i+1)!) = = 0.9092974515196738\n",
            "7 sin_to_x ≈ ∑_{i=0}^7 (-1)^i (x^{2i+1})/((2i+1)!) = = 0.9092974264614476\n",
            "8 sin_to_x ≈ ∑_{i=0}^8 (-1)^i (x^{2i+1})/((2i+1)!) = = 0.909297426829951\n",
            "9 sin_to_x ≈ ∑_{i=0}^9 (-1)^i (x^{2i+1})/((2i+1)!) = = 0.909297426825641\n",
            "10 sin_to_x ≈ ∑_{i=0}^10 (-1)^i (x^{2i+1})/((2i+1)!) = = 0.909297426825682\n",
            "math.sin(x) =  0.9092974268256817\n"
          ]
        }
      ]
    },
    {
      "cell_type": "markdown",
      "source": [
        "# What is the minimun $n$ for which the error between the Taylor series for $sin(x)$ about $0$ (Maclaurin  series) for $x$ and *math.exp(x)*, is in absolute value less than  $\\epsilon$.\n",
        "\n",
        "$$\\min_{n \\in \\mathbb{N}}\\left|\\sum_{i=0}^{n} \\frac{(-1)^i (x^{2i+1})}{((2i+1)!} - math.sin(x) \\right| < \\epsilon$$"
      ],
      "metadata": {
        "id": "EQulygu91CbA"
      }
    },
    {
      "cell_type": "code",
      "metadata": {
        "id": "EfkY5SM7pZBL",
        "colab": {
          "base_uri": "https://localhost:8080/"
        },
        "outputId": "4d685c2f-4f90-49d7-b44b-e6d30ca6124f"
      },
      "source": [
        "import math\n",
        "\n",
        "x = 4\n",
        "epsilon = 10**(-5)\n",
        "\n",
        "sin_to_x = 0\n",
        "\n",
        "print(\"n\".rjust(10),\" \",\"∑_{i=0}^n (-1)^i (x^{2i+1})/((2i+1)!\".center(21),\" \",\"delta =(-1)^i (x^{2i+1})/((2i+1)! \".center(21),\" \",\"error\".center(14),\" \",\"epsilon\".center(20))\n",
        "error = 1\n",
        "i = 0\n",
        "\n",
        "while  epsilon <= error:\n",
        "  delta =  ((-1)**i)*((x**(2*i+1)) / math.factorial(2*i+1))\n",
        "  sin_to_x += delta\n",
        "  error = abs(math.sin(x) - sin_to_x)\n",
        "  print(format(i, '10'),\"  \", format(sin_to_x, '.18f'),\"  \",format(delta, '.17f'),\" \",format(error, '.17f'),\"  \",\"{:.0e}\".format(epsilon)) \n",
        "  i = i+1\n",
        "\n",
        "\n",
        "print(\"n =\",i-1) \n",
        "print(\"x =\",x) \n",
        "print('sin_to_x ≈ ∑_{i=0}^'+str(i-1),'(-1)^i (x^{2i+1})/((2i+1)! =',sin_to_x)  \n",
        "print(\"epsilon =\",\"{:.0e}\".format(epsilon)) \n",
        "print('math.sin(x) = ',math.sin(x))"
      ],
      "execution_count": 2,
      "outputs": [
        {
          "output_type": "stream",
          "name": "stdout",
          "text": [
            "         n   ∑_{i=0}^n (-1)^i (x^{2i+1})/((2i+1)!   delta =(-1)^i (x^{2i+1})/((2i+1)!        error              epsilon       \n",
            "         0    4.000000000000000000    4.00000000000000000   4.75680249530792842    1e-05\n",
            "         1    -6.666666666666666075    -10.66666666666666607   5.90986417135873765    1e-05\n",
            "         2    1.866666666666667140    8.53333333333333321   2.62346916197459556    1e-05\n",
            "         3    -1.384126984126983650    -3.25079365079365079   0.62732448881905545    1e-05\n",
            "         4    -0.661728395061727870    0.72239858906525578   0.09507410024620033    1e-05\n",
            "         5    -0.766804553471219563    -0.10507615840949175   0.01000205816329136    1e-05\n",
            "         6    -0.756027511583066580    0.01077704188815300   0.00077498372486162    1e-05\n",
            "         7    -0.756848619536449663    -0.00082110795338309   0.00004612422852146    1e-05\n",
            "         8    -0.756800319068603566    0.00004830046784606   0.00000217623932464    1e-05\n",
            "n = 8\n",
            "x = 4\n",
            "sin_to_x ≈ ∑_{i=0}^8 (-1)^i (x^{2i+1})/((2i+1)! = -0.7568003190686036\n",
            "epsilon = 1e-05\n",
            "math.sin(x) =  -0.7568024953079282\n"
          ]
        }
      ]
    },
    {
      "cell_type": "code",
      "source": [
        "import math\n",
        "\n",
        "x = 2\n",
        "epsilon = 10**(-5)\n",
        "\n",
        "sin_to_x = 0\n",
        "\n",
        "print(\"n\".rjust(10),\" \",\"∑_{i=0}^n (-1)^i (x^{2i+1})/((2i+1)!\".center(21),\" \",\"delta =(-1)^i (x^{2i+1})/((2i+1)! \".center(21),\" \",\"error\".center(14),\" \",\"epsilon\".center(20))\n",
        "error = 1\n",
        "i = 0\n",
        "while  epsilon <= error:\n",
        "  delta =  ((-1)**i)*((x**(2*i+1)) / math.factorial(2*i+1))\n",
        "  sin_to_x += delta\n",
        "  error = abs(math.sin(x) - sin_to_x)\n",
        "  print(format(i, '10'),\"  \", format(sin_to_x, '.18f'),\"  \",format(delta, '.17f'),\" \",format(error, '.17f'),\"  \",\"{:.0e}\".format(epsilon)) \n",
        "  i = i+1\n",
        "\n",
        "\n",
        "print(\"n =\",i-1) \n",
        "print(\"x =\",x) \n",
        "print('sin_to_x ≈ ∑_{i=0}^'+str(i-1),'(-1)^i (x^{2i+1})/((2i+1)! =',sin_to_x)  \n",
        "print(\"epsilon =\",\"{:.0e}\".format(epsilon)) \n",
        "print('math.sin(x) = ',math.sin(x))"
      ],
      "metadata": {
        "colab": {
          "base_uri": "https://localhost:8080/"
        },
        "id": "3Pn3ahtECboG",
        "outputId": "3dae4624-2d51-4061-e0a8-9642056784b4"
      },
      "execution_count": 3,
      "outputs": [
        {
          "output_type": "stream",
          "name": "stdout",
          "text": [
            "         n   ∑_{i=0}^n (-1)^i (x^{2i+1})/((2i+1)!   delta =(-1)^i (x^{2i+1})/((2i+1)!        error              epsilon       \n",
            "         0    2.000000000000000000    2.00000000000000000   1.09070257317431829    1e-05\n",
            "         1    0.666666666666666741    -1.33333333333333326   0.24263076015901497    1e-05\n",
            "         2    0.933333333333333348    0.26666666666666666   0.02403590650765164    1e-05\n",
            "         3    0.907936507936507931    -0.02539682539682540   0.00136091888917378    1e-05\n",
            "         4    0.909347442680776052    0.00141093474426808   0.00005001585509434    1e-05\n",
            "         5    0.909296135962802676    -0.00005130671797338   0.00000129086287903    1e-05\n",
            "n = 5\n",
            "x = 2\n",
            "sin_to_x ≈ ∑_{i=0}^5 (-1)^i (x^{2i+1})/((2i+1)! = 0.9092961359628027\n",
            "epsilon = 1e-05\n",
            "math.sin(x) =  0.9092974268256817\n"
          ]
        }
      ]
    },
    {
      "cell_type": "markdown",
      "metadata": {
        "id": "ZlcF8gIdjZ6t"
      },
      "source": [
        "# What is the minimun $n$ for which the $n$-th term of the Taylor series for $sin(x)$ about $0$ (Maclaurin  series) for $x$, is in absolute value less than  $\\epsilon$.\n",
        "\n",
        "$$\\min_{n \\in \\mathbb{N}}\\left|\\frac{x^{n}}{n!}\\right| < \\epsilon$$"
      ]
    },
    {
      "cell_type": "code",
      "metadata": {
        "id": "_8y-XrmvcCLf",
        "colab": {
          "base_uri": "https://localhost:8080/"
        },
        "outputId": "b2bd6ba0-096e-46d1-eb7c-9aae22ddd365"
      },
      "source": [
        "import math\n",
        "\n",
        "x = 1\n",
        "epsilon = 10**(-5)\n",
        "\n",
        "sin_to_x = 0\n",
        "\n",
        "delta = 1\n",
        "i = 0\n",
        "print(\"n\".rjust(10),\" \",\"∑_{i=0}^n (-1)^i (x^{2i+1})/((2i+1)!\".center(20),\" \",\" delta=(-1)^i (x^{2i+1})/((2i+1)!\".center(20),\" \",\"epsilon\".center(9))\n",
        "while  epsilon <= abs(delta):\n",
        "  delta = ((-1)**i)*((x**(2*i+1)) / math.factorial(2*i+1))\n",
        "  sin_to_x += delta\n",
        "  print(format(i, '10'),\"  \", format(sin_to_x, '.17f'),\"  \",format(delta, '.17f'),\"  \",\"{:.0e}\".format(epsilon)) \n",
        "  i = i+1\n",
        "\n",
        "print(\"n = \",i-1) \n",
        "print('x = ',x)\n",
        "print('sin_to_x ≈ ∑_{i=0}^'+str(i-1),'(-1)^i (x^{2i+1})/((2i+1)! =',sin_to_x)\n",
        "print(\"epsilon =\",\"{:.0e}\".format(epsilon))     \n",
        "print('math.sin(x) = ',math.sin(x))"
      ],
      "execution_count": 4,
      "outputs": [
        {
          "output_type": "stream",
          "name": "stdout",
          "text": [
            "         n   ∑_{i=0}^n (-1)^i (x^{2i+1})/((2i+1)!    delta=(-1)^i (x^{2i+1})/((2i+1)!    epsilon \n",
            "         0    1.00000000000000000    1.00000000000000000    1e-05\n",
            "         1    0.83333333333333337    -0.16666666666666666    1e-05\n",
            "         2    0.84166666666666667    0.00833333333333333    1e-05\n",
            "         3    0.84146825396825398    -0.00019841269841270    1e-05\n",
            "         4    0.84147100970017641    0.00000275573192240    1e-05\n",
            "n =  4\n",
            "x =  1\n",
            "sin_to_x ≈ ∑_{i=0}^4 (-1)^i (x^{2i+1})/((2i+1)! = 0.8414710097001764\n",
            "epsilon = 1e-05\n",
            "math.sin(x) =  0.8414709848078965\n"
          ]
        }
      ]
    },
    {
      "cell_type": "code",
      "metadata": {
        "colab": {
          "base_uri": "https://localhost:8080/"
        },
        "id": "Ifa0n-_ODOAj",
        "outputId": "fbae4531-f83a-4895-a40e-1bdfc28bfba9"
      },
      "source": [
        "import math\n",
        "\n",
        "x = -1\n",
        "epsilon = 10**(-5)\n",
        "\n",
        "sin_to_x = 0\n",
        "\n",
        "delta = 1\n",
        "i = 0\n",
        "print(\"n\".rjust(10),\" \",\"∑_{i=0}^n (-1)^i (x^{2i+1})/((2i+1)!\".center(20),\" \",\" delta=(-1)^i (x^{2i+1})/((2i+1)!\".center(20),\" \",\"epsilon\".center(9))\n",
        "while  epsilon <= abs(delta):\n",
        "  delta = ((-1)**i)*((x**(2*i+1)) / math.factorial(2*i+1))\n",
        "  sin_to_x += delta\n",
        "  print(format(i, '10'),\"  \", format(sin_to_x, '.17f'),\"  \",format(delta, '.17f'),\"  \",\"{:.0e}\".format(epsilon)) \n",
        "  i = i+1\n",
        "\n",
        "print(\"n = \",i-1) \n",
        "print('x = ',x)\n",
        "print('sin_to_x ≈ ∑_{i=0}^'+str(i-1),'(-1)^i (x^{2i+1})/((2i+1)! =',sin_to_x)\n",
        "print(\"epsilon =\",\"{:.0e}\".format(epsilon))     \n",
        "print('math.sin(x) = ',math.sin(x))"
      ],
      "execution_count": 5,
      "outputs": [
        {
          "output_type": "stream",
          "name": "stdout",
          "text": [
            "         n   ∑_{i=0}^n (-1)^i (x^{2i+1})/((2i+1)!    delta=(-1)^i (x^{2i+1})/((2i+1)!    epsilon \n",
            "         0    -1.00000000000000000    -1.00000000000000000    1e-05\n",
            "         1    -0.83333333333333337    0.16666666666666666    1e-05\n",
            "         2    -0.84166666666666667    -0.00833333333333333    1e-05\n",
            "         3    -0.84146825396825398    0.00019841269841270    1e-05\n",
            "         4    -0.84147100970017641    -0.00000275573192240    1e-05\n",
            "n =  4\n",
            "x =  -1\n",
            "sin_to_x ≈ ∑_{i=0}^4 (-1)^i (x^{2i+1})/((2i+1)! = -0.8414710097001764\n",
            "epsilon = 1e-05\n",
            "math.sin(x) =  -0.8414709848078965\n"
          ]
        }
      ]
    },
    {
      "cell_type": "code",
      "metadata": {
        "colab": {
          "base_uri": "https://localhost:8080/"
        },
        "id": "9qMzfOv0C6PM",
        "outputId": "ef5a351b-8cd9-43a8-bc1f-8d4d731e3fbf"
      },
      "source": [
        "import math\n",
        "\n",
        "x = 4\n",
        "epsilon = 10**(-5)\n",
        "\n",
        "sin_to_x = 0\n",
        "\n",
        "delta = 1\n",
        "i = 0\n",
        "print(\"n\".rjust(10),\" \",\"∑_{i=0}^n (-1)^i (x^{2i+1})/((2i+1)!\".center(20),\" \",\" delta=(-1)^i (x^{2i+1})/((2i+1)!\".center(20),\" \",\"epsilon\".center(9))\n",
        "while  epsilon <= abs(delta):\n",
        "  delta = ((-1)**i)*((x**(2*i+1)) / math.factorial(2*i+1))\n",
        "  sin_to_x += delta\n",
        "  print(format(i, '10'),\"  \", format(sin_to_x, '.17f'),\"  \",format(delta, '.17f'),\"  \",\"{:.0e}\".format(epsilon)) \n",
        "  i = i+1\n",
        "\n",
        "print(\"n = \",i-1) \n",
        "print('x = ',x)\n",
        "print('sin_to_x ≈ ∑_{i=0}^'+str(i-1),'(-1)^i (x^{2i+1})/((2i+1)! =',sin_to_x)\n",
        "print(\"epsilon =\",\"{:.0e}\".format(epsilon))     \n",
        "print('math.sin(x) = ',math.sin(x))"
      ],
      "execution_count": 6,
      "outputs": [
        {
          "output_type": "stream",
          "name": "stdout",
          "text": [
            "         n   ∑_{i=0}^n (-1)^i (x^{2i+1})/((2i+1)!    delta=(-1)^i (x^{2i+1})/((2i+1)!    epsilon \n",
            "         0    4.00000000000000000    4.00000000000000000    1e-05\n",
            "         1    -6.66666666666666607    -10.66666666666666607    1e-05\n",
            "         2    1.86666666666666714    8.53333333333333321    1e-05\n",
            "         3    -1.38412698412698365    -3.25079365079365079    1e-05\n",
            "         4    -0.66172839506172787    0.72239858906525578    1e-05\n",
            "         5    -0.76680455347121956    -0.10507615840949175    1e-05\n",
            "         6    -0.75602751158306658    0.01077704188815300    1e-05\n",
            "         7    -0.75684861953644966    -0.00082110795338309    1e-05\n",
            "         8    -0.75680031906860357    0.00004830046784606    1e-05\n",
            "         9    -0.75680257873961387    -0.00000225967101034    1e-05\n",
            "n =  9\n",
            "x =  4\n",
            "sin_to_x ≈ ∑_{i=0}^9 (-1)^i (x^{2i+1})/((2i+1)! = -0.7568025787396139\n",
            "epsilon = 1e-05\n",
            "math.sin(x) =  -0.7568024953079282\n"
          ]
        }
      ]
    },
    {
      "cell_type": "code",
      "source": [
        "import math\n",
        "\n",
        "x = -4\n",
        "epsilon = 10**(-5)\n",
        "\n",
        "sin_to_x = 0\n",
        "\n",
        "delta = 1\n",
        "i = 0\n",
        "print(\"n\".rjust(10),\" \",\"∑_{i=0}^n (-1)^i (x^{2i+1})/((2i+1)!\".center(20),\" \",\" delta=(-1)^i (x^{2i+1})/((2i+1)!\".center(20),\" \",\"epsilon\".center(9))\n",
        "while  epsilon <= abs(delta):\n",
        "  delta = ((-1)**i)*((x**(2*i+1)) / math.factorial(2*i+1))\n",
        "  sin_to_x += delta\n",
        "  print(format(i, '10'),\"  \", format(sin_to_x, '.17f'),\"  \",format(delta, '.17f'),\"  \",\"{:.0e}\".format(epsilon)) \n",
        "  i = i+1\n",
        "\n",
        "print(\"n = \",i-1) \n",
        "print('x = ',x)\n",
        "print('sin_to_x ≈ ∑_{i=0}^'+str(i-1),'(-1)^i (x^{2i+1})/((2i+1)! =',sin_to_x)\n",
        "print(\"epsilon =\",\"{:.0e}\".format(epsilon))     \n",
        "print('math.sin(x) = ',math.sin(x))"
      ],
      "metadata": {
        "colab": {
          "base_uri": "https://localhost:8080/"
        },
        "id": "c3tgFlYc6sKn",
        "outputId": "19d92c0e-badb-4d90-f093-5eee646c3c62"
      },
      "execution_count": 7,
      "outputs": [
        {
          "output_type": "stream",
          "name": "stdout",
          "text": [
            "         n   ∑_{i=0}^n (-1)^i (x^{2i+1})/((2i+1)!    delta=(-1)^i (x^{2i+1})/((2i+1)!    epsilon \n",
            "         0    -4.00000000000000000    -4.00000000000000000    1e-05\n",
            "         1    6.66666666666666607    10.66666666666666607    1e-05\n",
            "         2    -1.86666666666666714    -8.53333333333333321    1e-05\n",
            "         3    1.38412698412698365    3.25079365079365079    1e-05\n",
            "         4    0.66172839506172787    -0.72239858906525578    1e-05\n",
            "         5    0.76680455347121956    0.10507615840949175    1e-05\n",
            "         6    0.75602751158306658    -0.01077704188815300    1e-05\n",
            "         7    0.75684861953644966    0.00082110795338309    1e-05\n",
            "         8    0.75680031906860357    -0.00004830046784606    1e-05\n",
            "         9    0.75680257873961387    0.00000225967101034    1e-05\n",
            "n =  9\n",
            "x =  -4\n",
            "sin_to_x ≈ ∑_{i=0}^9 (-1)^i (x^{2i+1})/((2i+1)! = 0.7568025787396139\n",
            "epsilon = 1e-05\n",
            "math.sin(x) =  0.7568024953079282\n"
          ]
        }
      ]
    },
    {
      "cell_type": "markdown",
      "source": [
        "# For  $x$ negative  and less than  $-9$ at the middle phase of the algorithm there are problems caused by rounding errors due to differences that produce wrong answers.\n",
        "\n",
        "https://stackoverflow.com/questions/69978341/error-of-taylor-series-ex-for-negative-x\n"
      ],
      "metadata": {
        "id": "fc0gbEw-iTQ8"
      }
    },
    {
      "cell_type": "code",
      "source": [
        "\n",
        "import math\n",
        "\n",
        "x = -9\n",
        "epsilon = 10**(-5)\n",
        "\n",
        "delta = 1\n",
        "sin_to_x = 0\n",
        "i = 0\n",
        "\n",
        "print(\"n\".rjust(10),\" \",\"∑_{i=0}^n (-1)^i (x^{2i+1})/((2i+1)!\".center(20),\" \",\" delta=(-1)^i (x^{2i+1})/((2i+1)!\".center(20),\" \",\"epsilon\".center(9))\n",
        "while  epsilon <= abs(delta):\n",
        "  delta =  ((-1)**i)*((x**(2*i+1)) / math.factorial(2*i+1))\n",
        "  sin_to_x += delta\n",
        "  print(format(i, '10'),\"  \", format(sin_to_x, '.17f'),\"  \",format( delta, '.17f'),\"  \",\"{:.0e}\".format(epsilon)) \n",
        "  i = i+1\n",
        "  \n",
        "print(\"n = \",i-1) \n",
        "print('x = ',x)\n",
        "print('sin_to_x ≈ ∑_{i=0}^'+str(i-1),'(-1)^i (x^{2i+1})/((2i+1)! =',sin_to_x)\n",
        "print(\"epsilon =\",\"{:.0e}\".format(epsilon))     \n",
        "print('math.sin(x) = ',math.sin(x))"
      ],
      "metadata": {
        "colab": {
          "base_uri": "https://localhost:8080/"
        },
        "id": "vldL9CPI7Fgn",
        "outputId": "f053278a-b9f1-434a-9f43-8ff4d3611080"
      },
      "execution_count": 8,
      "outputs": [
        {
          "output_type": "stream",
          "name": "stdout",
          "text": [
            "         n   ∑_{i=0}^n (-1)^i (x^{2i+1})/((2i+1)!    delta=(-1)^i (x^{2i+1})/((2i+1)!    epsilon \n",
            "         0    -9.00000000000000000    -9.00000000000000000    1e-05\n",
            "         1    112.50000000000000000    121.50000000000000000    1e-05\n",
            "         2    -379.57499999999998863    -492.07499999999998863    1e-05\n",
            "         3    569.42678571428564283    949.00178571428568830    1e-05\n",
            "         4    -498.20022321428587020    -1067.62700892857151302    1e-05\n",
            "         5    287.96148336038947946    786.16170657467534966    1e-05\n",
            "         6    -120.23786428415348837    -408.19934764454296783    1e-05\n",
            "         7    37.21045552159878866    157.44831980575227703    1e-05\n",
            "         8    -9.67672794996715169    -46.88718347156594035    1e-05\n",
            "         9    1.42813129329846511    11.10485924326561680    1e-05\n",
            "        10    -0.71352013218847521    -2.14165142548694032    1e-05\n",
            "        11    -0.37068660360262112    0.34283352858585409    1e-05\n",
            "        12    -0.41696912996171143    -0.04628252635909030    1e-05\n",
            "        13    -0.41162883845873949    0.00534029150297196    1e-05\n",
            "        14    -0.41216155226630197    -0.00053271380756247    1e-05\n",
            "        15    -0.41211515461209491    0.00004639765420705    1e-05\n",
            "        16    -0.41211871352307100    -0.00000355891097611    1e-05\n",
            "n =  16\n",
            "x =  -9\n",
            "sin_to_x ≈ ∑_{i=0}^16 (-1)^i (x^{2i+1})/((2i+1)! = -0.412118713523071\n",
            "epsilon = 1e-05\n",
            "math.sin(x) =  -0.4121184852417566\n"
          ]
        }
      ]
    },
    {
      "cell_type": "code",
      "source": [
        "\n",
        "import math\n",
        "\n",
        "x = -10\n",
        "epsilon = 10**(-5)\n",
        "\n",
        "delta = 1\n",
        "sin_to_x = 0\n",
        "i = 0\n",
        "\n",
        "print(\"n\".rjust(10),\" \",\"∑_{i=0}^n (-1)^i (x^{2i+1})/((2i+1)!\".center(20),\" \",\" delta=(-1)^i (x^{2i+1})/((2i+1)!\".center(20),\" \",\"epsilon\".center(9))\n",
        "while  epsilon <= abs(delta):\n",
        "  delta = ((-1)**i)*((x**(2*i+1)) / math.factorial(2*i+1))\n",
        "  sin_to_x += delta\n",
        "  print(format(i, '10'),\"  \", format(sin_to_x, '.17f'),\"  \",format(delta, '.17f'),\"  \",\"{:.0e}\".format(epsilon)) \n",
        "  i = i+1\n",
        "  \n",
        "print(\"n = \",i-1) \n",
        "print('x = ',x)\n",
        "print('sin_to_x ≈ ∑_{i=0}^'+str(i-1),'(-1)^i (x^{2i+1})/((2i+1)! =',sin_to_x)\n",
        "print(\"epsilon =\",\"{:.0e}\".format(epsilon))     \n",
        "print('math.sin(x) = ',math.sin(x))"
      ],
      "metadata": {
        "colab": {
          "base_uri": "https://localhost:8080/"
        },
        "id": "qu15auzpyJG4",
        "outputId": "8c1290b7-3ab8-4ae4-f441-247296402533"
      },
      "execution_count": 9,
      "outputs": [
        {
          "output_type": "stream",
          "name": "stdout",
          "text": [
            "         n   ∑_{i=0}^n (-1)^i (x^{2i+1})/((2i+1)!    delta=(-1)^i (x^{2i+1})/((2i+1)!    epsilon \n",
            "         0    -10.00000000000000000    -10.00000000000000000    1e-05\n",
            "         1    156.66666666666665719    166.66666666666665719    1e-05\n",
            "         2    -676.66666666666674246    -833.33333333333337123    1e-05\n",
            "         3    1307.46031746031735565    1984.12698412698409811    1e-05\n",
            "         4    -1448.27160493827182108    -2755.73192239858917674    1e-05\n",
            "         5    1056.93923360590019911    2505.21083854417202019    1e-05\n",
            "         6    -548.96515007626135230    -1605.90438368216155141    1e-05\n",
            "         7    215.75122310572032802    764.71637318198168032    1e-05\n",
            "         8    -65.39450232883172021    -281.14572543455204823    1e-05\n",
            "         9    16.81185013741158230    82.20635246624330250    1e-05\n",
            "        10    -2.76109092597967987    -19.57294106339126216    1e-05\n",
            "        11    1.10707924465100405    3.86817017063068391    1e-05\n",
            "        12    0.46238421621255665    -0.64469502843844739    1e-05\n",
            "        13    0.55422111485051206    0.09183689863795547    1e-05\n",
            "        14    0.54291115196406436    -0.01130996288644772    1e-05\n",
            "        15    0.54412727700561792    0.00121612504155352    1e-05\n",
            "        16    0.54401211364941016    -0.00011516335620772    1e-05\n",
            "        17    0.54402179124236882    0.00000967759295863    1e-05\n",
            "n =  17\n",
            "x =  -10\n",
            "sin_to_x ≈ ∑_{i=0}^17 (-1)^i (x^{2i+1})/((2i+1)! = 0.5440217912423688\n",
            "epsilon = 1e-05\n",
            "math.sin(x) =  0.5440211108893698\n"
          ]
        }
      ]
    },
    {
      "cell_type": "code",
      "source": [
        "\n",
        "import math\n",
        "\n",
        "x = -35\n",
        "epsilon = 10**(-5)\n",
        "\n",
        "delta = 1\n",
        "sin_to_x = 0\n",
        "i = 0\n",
        "\n",
        "print(\"n\".rjust(10),\" \",\"∑_{i=0}^n (-1)^i (x^{2i+1})/((2i+1)!\".center(20),\" \",\" delta =(-1)^i (x^{2i+1})/((2i+1)!\".center(20),\" \",\"epsilon\".center(9))\n",
        "while  epsilon <= abs(delta):\n",
        "  delta = ((-1)**i)*((x**(2*i+1)) / math.factorial(2*i+1))\n",
        "  sin_to_x += delta\n",
        "  print(format(i, '10'),\"  \", format(sin_to_x, '.17f'),\"  \",format( delta, '.17f'),\"  \",\"{:.0e}\".format(epsilon)) \n",
        "  i = i+1\n",
        "  \n",
        "print(\"n = \",i-1) \n",
        "print('x = ',x)\n",
        "print('sin_to_x ≈ ∑_{i=0}^'+str(i-1),'(-1)^i (x^{2i+1})/((2i+1)! =',sin_to_x)\n",
        "print(\"epsilon =\",\"{:.0e}\".format(epsilon))     \n",
        "print('math.sin(x) = ',math.sin(x))"
      ],
      "metadata": {
        "colab": {
          "base_uri": "https://localhost:8080/"
        },
        "id": "zotJ5A3NjCMf",
        "outputId": "eb862073-d001-4cd5-beee-98d57ba53115"
      },
      "execution_count": 10,
      "outputs": [
        {
          "output_type": "stream",
          "name": "stdout",
          "text": [
            "         n   ∑_{i=0}^n (-1)^i (x^{2i+1})/((2i+1)!    delta =(-1)^i (x^{2i+1})/((2i+1)!    epsilon \n",
            "         0    -35.00000000000000000    -35.00000000000000000    1e-05\n",
            "         1    7110.83333333333303017    7145.83333333333303017    1e-05\n",
            "         2    -430571.45833333337213844    -437682.29166666668606922    1e-05\n",
            "         3    12335162.04861111007630825    12765733.50694444403052330    1e-05\n",
            "         4    -204859609.42370757460594177    -217194771.47231867909431458    1e-05\n",
            "         5    2213900345.60893249511718750    2418759955.03263998031616211    1e-05\n",
            "         6    -16779567249.99993896484375000    -18993467595.60887145996093750    1e-05\n",
            "         7    94015660391.05180358886718750    110795227641.05174255371093750    1e-05\n",
            "         8    -404970199389.42016601562500000    -498985859780.47198486328125000    1e-05\n",
            "         9    1382332953333.03076171875000000    1787303152722.45092773437500000    1e-05\n",
            "        10    -3830634575440.78466796875000000    -5212967528773.81542968750000000    1e-05\n",
            "        11    8789691951729.02343750000000000    12620326527169.80859375000000000    1e-05\n",
            "        12    -16976808041242.67187500000000000    -25766499992971.69531250000000000    1e-05\n",
            "        13    27986101490652.37500000000000000    44962909531895.04687500000000000    1e-05\n",
            "        14    -39845874096258.25781250000000000    -67831975586910.63281250000000000    1e-05\n",
            "        15    49502695897253.05468750000000000    89348569993511.31250000000000000    1e-05\n",
            "        16    -54145029710750.13281250000000000    -103647725608003.18750000000000000    1e-05\n",
            "        17    52551158415135.50781250000000000    106696188125885.64062500000000000    1e-05\n",
            "        18    -45574089673610.66406250000000000    -98125248088746.17187500000000000    1e-05\n",
            "        19    35534836715535.13281250000000000    81108926389145.79687500000000000    1e-05\n",
            "        20    -25049574764162.17968750000000000    -60584411479697.31250000000000000    1e-05\n",
            "        21    16044502789896.07812500000000000    41094077554058.25781250000000000    1e-05\n",
            "        22    -9379863373599.55859375000000000    -25424366163495.63671875000000000    1e-05\n",
            "        23    5025709498871.37304687500000000    14405572872470.93164062500000000    1e-05\n",
            "        24    -2477193038873.90429687500000000    -7502902537745.27734375000000000    1e-05\n",
            "        25    1127142493964.51318359375000000    3604335532838.41748046875000000    1e-05\n",
            "        26    -474929722191.89526367187500000    -1602072216156.40844726562500000    1e-05\n",
            "        27    185857639690.79846191406250000    660787361882.69372558593750000    1e-05\n",
            "        28    -67734001382.60372924804687500    -253591641073.40219116210937500    1e-05\n",
            "        29    23046174045.48443603515625000    90780175428.08816528320312500    1e-05\n",
            "        30    -7337901063.64343261718750000    -30384075109.12786865234375000    1e-05\n",
            "        31    2191154750.15114974975585938    9529055813.79458236694335938    1e-05\n",
            "        32    -614877310.40134143829345703    -2806032060.55249118804931641    1e-05\n",
            "        33    162460833.91724777221679688    777338144.31858921051025391    1e-05\n",
            "        34    -40488702.90932336449623108    -202949536.82657113671302795    1e-05\n",
            "        35    9534070.25215543806552887    50022773.16147880256175995    1e-05\n",
            "        36    -2124585.97364584356546402    -11658656.22580128163099289    1e-05\n",
            "        37    448721.03114813286811113    2573307.00479397643357515    1e-05\n",
            "        38    -89949.69353960140142590    -538670.72468773426953703    1e-05\n",
            "        39    17137.55698660349298734    107087.25052620489441324    1e-05\n",
            "        40    -3106.56058972382015781    -20244.11757632731314516    1e-05\n",
            "        41    537.14261788725207225    3643.70320761107223007    1e-05\n",
            "        42    -88.00254028131428186    -625.14515816856635411    1e-05\n",
            "        43    14.35014867304201402    102.35268895435629588    1e-05\n",
            "        44    -1.65879463251039283    -16.00894330555240685    1e-05\n",
            "        45    0.73570543455941184    2.39450006706980467    1e-05\n",
            "        46    0.39287437072578507    -0.34283106383362677    1e-05\n",
            "        47    0.43990326806018515    0.04702889733440009    1e-05\n",
            "        48    0.43371658429357862    -0.00618668376660654    1e-05\n",
            "        49    0.43449773123380669    0.00078114694022810    1e-05\n",
            "        50    0.43440298816432360    -0.00009474306948311    1e-05\n",
            "        51    0.43441403520983252    0.00001104704550893    1e-05\n",
            "        52    0.43441279595793247    -0.00000123925190004    1e-05\n",
            "n =  52\n",
            "x =  -35\n",
            "sin_to_x ≈ ∑_{i=0}^52 (-1)^i (x^{2i+1})/((2i+1)! = 0.4344127959579325\n",
            "epsilon = 1e-05\n",
            "math.sin(x) =  0.428182669496151\n"
          ]
        }
      ]
    },
    {
      "cell_type": "markdown",
      "source": [
        "#  Solution for $x$ negative  and less than  $-9$\n",
        "**Solution** for $e^{-x}$  calculate $e^{x}$ and return $1/e^{x}$\n",
        "\n",
        "$$e^{-x}  = 1/e^{x}  $$"
      ],
      "metadata": {
        "id": "9s4Rl_EojtvV"
      }
    },
    {
      "cell_type": "code",
      "source": [
        "# Returns Min n, |x^{n}/n!| < epsilon and ∑_{i=0}^{n} x^i/i!\n",
        "\n",
        "import math\n",
        "\n",
        "x = - 43\n",
        "epsilon = 10**(-5)\n",
        "\n",
        "xo = x\n",
        "\n",
        "if x < 0 :\n",
        "   x = - x\n",
        "\n",
        "delta = 1\n",
        "sin_to_x = 0\n",
        "i = 0\n",
        "\n",
        "print(\"n\".rjust(10),\" \",\"∑_{i=0}^n x^i/i!\".center(20),\" \",\"|x^n/n!|\".center(20),\" \",\"epsilon\".center(9))\n",
        "while  epsilon <= abs(delta):\n",
        "  delta = x**i/math.factorial(i) \n",
        "  sin_to_x += delta\n",
        "  print(format(i, '10'),\"  \", format(sin_to_x, '.17f'),\"  \",format( abs(delta), '.17f'),\"  \",\"{:.0e}\".format(epsilon)) \n",
        "  i = i+1\n",
        "\n",
        "if x != xo: \n",
        "  sin_to_x = 1 / sin_to_x\n",
        "  x = xo\n",
        "  \n",
        "print(\"n = \",i-1) \n",
        "print('x = ',x)\n",
        "print('e_to_x ≈ ∑_{i=0}^'+str(i-1),'x^i/i! =',sin_to_x)\n",
        "print(\"epsilon =\",\"{:.0e}\".format(epsilon))     \n",
        "print('math.exp(x) = ',math.sin(x))"
      ],
      "metadata": {
        "colab": {
          "base_uri": "https://localhost:8080/"
        },
        "id": "OqMQpI-2wSHE",
        "outputId": "ccaf6741-782b-49b9-c360-f756749790ba"
      },
      "execution_count": 11,
      "outputs": [
        {
          "output_type": "stream",
          "name": "stdout",
          "text": [
            "         n     ∑_{i=0}^n x^i/i!           |x^n/n!|          epsilon \n",
            "         0    1.00000000000000000    1.00000000000000000    1e-05\n",
            "         1    44.00000000000000000    43.00000000000000000    1e-05\n",
            "         2    968.50000000000000000    924.50000000000000000    1e-05\n",
            "         3    14219.66666666666606034    13251.16666666666606034    1e-05\n",
            "         4    156669.70833333331393078    142450.04166666665696539    1e-05\n",
            "         5    1381740.06666666665114462    1225070.35833333339542150    1e-05\n",
            "         6    10161410.96805555559694767    8779670.90138888917863369    1e-05\n",
            "         7    64093675.07658729702234268    53932264.10853174328804016    1e-05\n",
            "         8    353979594.65994542837142944    289885919.58335810899734497    1e-05\n",
            "         9    1738990099.33598995208740234    1385010504.67604446411132812    1e-05\n",
            "        10    7694535269.44298076629638672    5955545170.10699081420898438    1e-05\n",
            "        11    30975302752.58849334716796875    23280767483.14551162719726562    1e-05\n",
            "        12    114398052900.52658081054687500    83422750147.93807983398437500    1e-05\n",
            "        13    390334841851.39868164062500000    275936788950.87213134765625000    1e-05\n",
            "        14    1237854979343.36303710937500000    847520137491.96435546875000000    1e-05\n",
            "        15    3667412706820.32714843750000000    2429557727476.96435546875000000    1e-05\n",
            "        16    10196849099414.66796875000000000    6529436392594.34179687500000000    1e-05\n",
            "        17    26712482327741.53125000000000000    16515633228326.86523437500000000    1e-05\n",
            "        18    66166495039855.71093750000000000    39454012712114.17968750000000000    1e-05\n",
            "        19    155457155388324.62500000000000000    89290660348468.92187500000000000    1e-05\n",
            "        20    347432075137532.81250000000000000    191974919749208.18750000000000000    1e-05\n",
            "        21    740523577481149.50000000000000000    393091502343616.75000000000000000    1e-05\n",
            "        22    1508838786607309.50000000000000000    768315209126160.00000000000000000    1e-05\n",
            "        23    2945254177582304.50000000000000000    1436415390974995.00000000000000000    1e-05\n",
            "        24    5518831753079170.00000000000000000    2573577575496866.00000000000000000    1e-05\n",
            "        25    9945385182933780.00000000000000000    4426553429854609.00000000000000000    1e-05\n",
            "        26    17266223547693326.00000000000000000    7320838364759546.00000000000000000    1e-05\n",
            "        27    28925336498977048.00000000000000000    11659112951283722.00000000000000000    1e-05\n",
            "        28    46830402817019904.00000000000000000    17905066318042858.00000000000000000    1e-05\n",
            "        29    73379294254117936.00000000000000000    26548891437098032.00000000000000000    1e-05\n",
            "        30    111432705313958448.00000000000000000    38053411059840512.00000000000000000    1e-05\n",
            "        31    164216469042124320.00000000000000000    52783763728165872.00000000000000000    1e-05\n",
            "        32    235144651551847200.00000000000000000    70928182509722888.00000000000000000    1e-05\n",
            "        33    327566222700880064.00000000000000000    92421571149032848.00000000000000000    1e-05\n",
            "        34    444452327389362816.00000000000000000    116886104688482720.00000000000000000    1e-05\n",
            "        35    588055256006641664.00000000000000000    143602928617278784.00000000000000000    1e-05\n",
            "        36    759580976299502464.00000000000000000    171525720292860768.00000000000000000    1e-05\n",
            "        37    958921678261475840.00000000000000000    199340701961973312.00000000000000000    1e-05\n",
            "        38    1184491419955287808.00000000000000000    225569741693811904.00000000000000000    1e-05\n",
            "        39    1433196519771542016.00000000000000000    248705099816254176.00000000000000000    1e-05\n",
            "        40    1700554502074015232.00000000000000000    267357982302473216.00000000000000000    1e-05\n",
            "        41    1980954337171730944.00000000000000000    280399835097715808.00000000000000000    1e-05\n",
            "        42    2268030358819392512.00000000000000000    287076021647661440.00000000000000000    1e-05\n",
            "        43    2555106380467054080.00000000000000000    287076021647661440.00000000000000000    1e-05\n",
            "        44    2835657947077268480.00000000000000000    280551566610214592.00000000000000000    1e-05\n",
            "        45    3103740555171473408.00000000000000000    268082608094205056.00000000000000000    1e-05\n",
            "        46    3354339514911708672.00000000000000000    250598959740235168.00000000000000000    1e-05\n",
            "        47    3583610903610221568.00000000000000000    229271388698513024.00000000000000000    1e-05\n",
            "        48    3788999855985972736.00000000000000000    205388952375751232.00000000000000000    1e-05\n",
            "        49    3969239140723876864.00000000000000000    180239284737904160.00000000000000000    1e-05\n",
            "        50    4124244925598474240.00000000000000000    155005784874597568.00000000000000000    1e-05\n",
            "        51    4254936077551566336.00000000000000000    130691151953092064.00000000000000000    1e-05\n",
            "        52    4363007607051238400.00000000000000000    108071529499672288.00000000000000000    1e-05\n",
            "        53    4450688281928331264.00000000000000000    87680674877092608.00000000000000000    1e-05\n",
            "        54    4520508078589720064.00000000000000000    69819796661388560.00000000000000000    1e-05\n",
            "        55    4575094465070441984.00000000000000000    54586386480721968.00000000000000000    1e-05\n",
            "        56    4617009011832424448.00000000000000000    41914546761982936.00000000000000000    1e-05\n",
            "        57    4648628757635323904.00000000000000000    31619745802899408.00000000000000000    1e-05\n",
            "        58    4672070982971956224.00000000000000000    23442225336632320.00000000000000000    1e-05\n",
            "        59    4689155994657976320.00000000000000000    17085011686020166.00000000000000000    1e-05\n",
            "        60    4701400253032956928.00000000000000000    12244258374981118.00000000000000000    1e-05\n",
            "        61    4710031451559582720.00000000000000000    8631198526626035.00000000000000000    1e-05\n",
            "        62    4716017605376436224.00000000000000000    5986153816853540.00000000000000000    1e-05\n",
            "        63    4720103392902224896.00000000000000000    4085787525788924.00000000000000000    1e-05\n",
            "        64    4722848531396114432.00000000000000000    2745138493889433.50000000000000000    1e-05\n",
            "        65    4724664546092071936.00000000000000000    1816014695957625.25000000000000000    1e-05\n",
            "        66    4725847707181862912.00000000000000000    1183161089790574.00000000000000000    1e-05\n",
            "        67    4726607049373817856.00000000000000000    759342191955144.50000000000000000    1e-05\n",
            "        68    4727087221642260480.00000000000000000    480172268442223.75000000000000000    1e-05\n",
            "        69    4727386459432738816.00000000000000000    299237790478487.25000000000000000    1e-05\n",
            "        70    4727570276932603904.00000000000000000    183817499865356.46875000000000000    1e-05\n",
            "        71    4727681603024071680.00000000000000000    111326091467751.09375000000000000    1e-05\n",
            "        72    4727748089439809536.00000000000000000    66486415737684.67968750000000000    1e-05\n",
            "        73    4727787252670997504.00000000000000000    39163231187951.25000000000000000    1e-05\n",
            "        74    4727810009683715072.00000000000000000    22757012717323.02343750000000000    1e-05\n",
            "        75    4727823057037673472.00000000000000000    13047353957931.86718750000000000    1e-05\n",
            "        76    4727830439093201920.00000000000000000    7382055528829.87207031250000000    1e-05\n",
            "        77    4727834561539795968.00000000000000000    4122446594021.87646484375000000    1e-05\n",
            "        78    4727836834170610688.00000000000000000    2272630814653.08593750000000000    1e-05\n",
            "        79    4727838071172193280.00000000000000000    1237001582659.27465820312500000    1e-05\n",
            "        80    4727838736060544000.00000000000000000    664888350679.36010742187500000    1e-05\n",
            "        81    4727839089025965056.00000000000000000    352965420731.01831054687500000    1e-05\n",
            "        82    4727839274117587968.00000000000000000    185091623066.26568603515625000    1e-05\n",
            "        83    4727839370008428544.00000000000000000    95890840865.65573120117187500    1e-05\n",
            "        84    4727839419095406592.00000000000000000    49086978062.18090820312500000    1e-05\n",
            "        85    4727839443927642112.00000000000000000    24832235960.86798858642578125    1e-05\n",
            "        86    4727839456343759872.00000000000000000    12416117980.43399429321289062    1e-05\n",
            "        87    4727839462480461824.00000000000000000    6136701990.32944488525390625    1e-05\n",
            "        88    4727839465479077888.00000000000000000    2998615745.27461528778076172    1e-05\n",
            "        89    4727839466927847424.00000000000000000    1448769405.02031970024108887    1e-05\n",
            "        90    4727839467620037632.00000000000000000    692189826.84304165840148926    1e-05\n",
            "        91    4727839467947116544.00000000000000000    327078709.38737136125564575    1e-05\n",
            "        92    4727839468099990528.00000000000000000    152873744.60496702790260315    1e-05\n",
            "        93    4727839468170674176.00000000000000000    70683559.33347938954830170    1e-05\n",
            "        94    4727839468203008000.00000000000000000    32333968.63127248361706734    1e-05\n",
            "        95    4727839468217643008.00000000000000000    14635375.27520754560828209    1e-05\n",
            "        96    4727839468224198656.00000000000000000    6555428.50868671294301748    1e-05\n",
            "        97    4727839468227104768.00000000000000000    2906014.69972709938883781    1e-05\n",
            "        98    4727839468228379648.00000000000000000    1275088.08253331924788654    1e-05\n",
            "        99    4727839468228933632.00000000000000000    553826.13685790635645390    1e-05\n",
            "       100    4727839468229172224.00000000000000000    238145.23884889972396195    1e-05\n",
            "       101    4727839468229273600.00000000000000000    101388.56703468007617630    1e-05\n",
            "       102    4727839468229316608.00000000000000000    42742.23904403179767542    1e-05\n",
            "       103    4727839468229334016.00000000000000000    17843.84736789677117486    1e-05\n",
            "       104    4727839468229341184.00000000000000000    7377.74458480347220757    1e-05\n",
            "       105    4727839468229344256.00000000000000000    3021.36206806237441924    1e-05\n",
            "       106    4727839468229345280.00000000000000000    1225.64687666681220435    1e-05\n",
            "       107    4727839468229345280.00000000000000000    492.54967940815816974    1e-05\n",
            "       108    4727839468229345280.00000000000000000    196.10774272732223267    1e-05\n",
            "       109    4727839468229345280.00000000000000000    77.36360492912712061    1e-05\n",
            "       110    4727839468229345280.00000000000000000    30.24213647229514734    1e-05\n",
            "       111    4727839468229345280.00000000000000000    11.71542223701523788    1e-05\n",
            "       112    4727839468229345280.00000000000000000    4.49788532313977818    1e-05\n",
            "       113    4727839468229345280.00000000000000000    1.71158468048681844    1e-05\n",
            "       114    4727839468229345280.00000000000000000    0.64559773035906309    1e-05\n",
            "       115    4727839468229345280.00000000000000000    0.24139741222121489    1e-05\n",
            "       116    4727839468229345280.00000000000000000    0.08948352349579518    1e-05\n",
            "       117    4727839468229345280.00000000000000000    0.03288710692580506    1e-05\n",
            "       118    4727839468229345280.00000000000000000    0.01198428472720015    1e-05\n",
            "       119    4727839468229345280.00000000000000000    0.00433045582579501    1e-05\n",
            "       120    4727839468229345280.00000000000000000    0.00155174667090988    1e-05\n",
            "       121    4727839468229345280.00000000000000000    0.00055144716404235    1e-05\n",
            "       122    4727839468229345280.00000000000000000    0.00019436252503132    1e-05\n",
            "       123    4727839468229345280.00000000000000000    0.00006794787460445    1e-05\n",
            "       124    4727839468229345280.00000000000000000    0.00002356256941928    1e-05\n",
            "       125    4727839468229345280.00000000000000000    0.00000810552388023    1e-05\n",
            "n =  125\n",
            "x =  -43\n",
            "e_to_x ≈ ∑_{i=0}^125 x^i/i! = 2.115131037591081e-19\n",
            "epsilon = 1e-05\n",
            "math.exp(x) =  0.8317747426285983\n"
          ]
        }
      ]
    },
    {
      "cell_type": "markdown",
      "source": [
        "# Efficeincy \n",
        "Efficient \n",
        "\n",
        "https://stackoverflow.com/questions/69978341/error-of-taylor-series-ex-for-negative-x\n",
        "\n",
        "$$ \n",
        "\\begin{array}{lll}\n",
        "e^{ x}  & \\approx   &\\sum_{i=0}^{n} \\frac{x^i}{i!}  \\\\\n",
        "        & = & 1 + x + \\frac{x^2}{2!} + \\frac{x^3}{3!} +\\cdots+ \\frac{x^n}{n!}  \\\\\n",
        "       & = &1 + \\left[ 1  * \\frac{x}{1} \\right]  + \\left[  \\left( 1 *  \\frac{x}{1} \\right)  \\frac{x}{2} \\right]+ \\left[ \\left( 1 *  \\frac{x}{1} \\frac{x}{2} \\right) * \\frac{x}{3} \\right]+ \\left[  \\left(1 *  \\frac{x}{1} \\frac{x}{2}   \\frac{x}{3}\\right) * \\frac{x}{4}\\right]  +\\cdots+ \\left[  \\left(1 *  \\frac{x}{1}  \\frac{x}{2} \\cdots  \\frac{x}{n-1} \\right)* \\frac{x}{n} \\right] \\ \\ \\text{ efficient}\n",
        "\\end{array} \n",
        "$$\n",
        "\n",
        "\n",
        "\n",
        "Additions\n",
        "$$ n \\text{ additions } $$\n",
        "\n",
        "Multiplications\n",
        "$$ n \\text{ multiplications } $$\n",
        "\n",
        "Divisions\n",
        "$$ n \\text{ divsions }$$ \n",
        "\n",
        "TOTAL \n",
        "$$ 3n = \\Theta(n) \\text{ FLOPS }$$ "
      ],
      "metadata": {
        "id": "PBe8gYqRwB-Z"
      }
    },
    {
      "cell_type": "code",
      "source": [
        "\n",
        "import math\n",
        "import time\n",
        "\n",
        "start = time.time()\n",
        "\n",
        "x = 700\n",
        "epsilon = 10**(-20)\n",
        "\n",
        "xo = x\n",
        "\n",
        "if x < 0 :\n",
        "   x = - x\n",
        "\n",
        "\n",
        "delta = 1\n",
        "sin_to_x = 0\n",
        "i = 0\n",
        "\n",
        "while  epsilon <= abs(delta):\n",
        "  delta = ((-1)**i)*((x**(2*i+1)) / math.factorial(2*i+1))\n",
        "  sin_to_x += delta\n",
        "  i = i+1\n",
        "\n",
        "if x != xo: \n",
        "  sin_to_x = 1 / sin_to_x\n",
        "  x = xo\n",
        "\n",
        "end = time.time()\n",
        "\n",
        "print(\"n = \",i-1) \n",
        "print('x = ',x)\n",
        "print('sin_to_x ≈ ∑_{i=0}^'+str(i-1),'((-1)**i)*((x**(2*i+1)) / math.factorial(2*i+1)) =',sin_to_x)\n",
        "print(\"epsilon =\",\"{:.0e}\".format(epsilon))     \n",
        "print('math.sin(x) = ',math.sin(x))\n",
        "print('time = ',end - start)"
      ],
      "metadata": {
        "colab": {
          "base_uri": "https://localhost:8080/"
        },
        "id": "uqmD3vEUQO8S",
        "outputId": "17e5004f-2cf4-46f6-97c5-a50ff9afd8c8"
      },
      "execution_count": 12,
      "outputs": [
        {
          "output_type": "stream",
          "name": "stdout",
          "text": [
            "n =  972\n",
            "x =  700\n",
            "sin_to_x ≈ ∑_{i=0}^972 ((-1)**i)*((x**(2*i+1)) / math.factorial(2*i+1)) = -2.1736710222832293e+286\n",
            "epsilon = 1e-20\n",
            "math.sin(x) =  0.5439705233633756\n",
            "time =  0.2021784782409668\n"
          ]
        }
      ]
    },
    {
      "cell_type": "code",
      "source": [
        "\n",
        "import time\n",
        "\n",
        "start = time.time()\n",
        "\n",
        "x = -700\n",
        "epsilon = 10**(-20)\n",
        "\n",
        "neg = False\n",
        "if x < 0 :\n",
        "  x = abs(x)\n",
        "  neg = True\n",
        "\n",
        "delta = 1\n",
        "e_to_x = 1\n",
        "i = 1\n",
        "\n",
        "while  epsilon <= abs(delta):\n",
        "  delta *= x/i \n",
        "  e_to_x += delta\n",
        "  i = i+1\n",
        "\n",
        "if x != xo: \n",
        "  e_to_x = 1 / e_to_x\n",
        "  x = xo\n",
        "\n",
        "end = time.time()\n",
        "\n",
        "print(\"n = \",i-1) \n",
        "print('x = ',x)\n",
        "print('e_to_x ≈ ∑_{i=0}^'+str(i-1),'x^i/i! =',e_to_x)\n",
        "print(\"epsilon =\",\"{:.0e}\".format(epsilon))     \n",
        "print('math.exp(x) = ',math.exp(x))\n",
        "print('time = ',end - start)"
      ],
      "metadata": {
        "colab": {
          "base_uri": "https://localhost:8080/"
        },
        "id": "4SidsY8ylmM7",
        "outputId": "712553a5-55e2-4827-dc60-5ad3ebc7340d"
      },
      "execution_count": 13,
      "outputs": [
        {
          "output_type": "stream",
          "name": "stdout",
          "text": [
            "n =  1944\n",
            "x =  700\n",
            "e_to_x ≈ ∑_{i=0}^1944 x^i/i! = 1.0142320547350058e+304\n",
            "epsilon = 1e-20\n",
            "math.exp(x) =  1.0142320547350045e+304\n",
            "time =  0.0008957386016845703\n"
          ]
        }
      ]
    },
    {
      "cell_type": "markdown",
      "source": [
        "Inefficient\n",
        "\n",
        "$$ e^{ x} \\approx \\sum_{i=0}^{n} \\frac{x^i}{i!} =\\sum_{i=0}^{n} \\frac{x**i}{math.factorial(i)}$$\n",
        "\n",
        "Additions\n",
        "$$ n \\text{ additions } $$\n",
        "\n",
        "Multiplications\n",
        "\n",
        "* Powers - exponentiation by squaring\n",
        "$$ x^i = x**i$$\n",
        "\n",
        "<center>\n",
        "<a href=\"https://en.wikipedia.org/wiki/Exponentiation_by_squaring\">https://en.wikipedia.org/wiki/Exponentiation_by_squaring</a>\n",
        "</center>\n",
        "$$\\lg i \\text{ multiplications }$$\n",
        "<center>\n",
        "<a href=\"https://math.stackexchange.com/questions/228744/value-of-summation-of-logn\">https://math.stackexchange.com/questions/228744/value-of-summation-of-logn</a>\n",
        "</center>\n",
        "$$ \\sum_{i=1}^{n}\\lg i \\approx  n \\lg n$$ \n",
        "\n",
        "\n",
        "* Factorials\n",
        "$$math.factorial(i), $$\n",
        "$$  i-1 \\text{ mutiplications }  $$\n",
        "$$ \\sum_{i=1}^{n} i-1 = \\frac{n(n-1)}{2} =  \\frac{1}{2} n^2 - \\frac{1}{2} n\\text{ mutiplications}$$\n",
        "\n",
        "Divisions\n",
        "$$ n-1 \\text{ divsions }$$ \n",
        "\n",
        "TOTAL \n",
        "$$ \\frac{1}{2} n^2 + n \\lg n + \\frac{3}{2} n -1 = \\Theta(n^2) \\text{ FLOPS }$$ "
      ],
      "metadata": {
        "id": "WBlbS2V9Y-IZ"
      }
    },
    {
      "cell_type": "code",
      "source": [
        "# Returns Min n, |x^{n}/n!| < epsilon and ∑_{i=0}^{n} x^i/i!\n",
        "\n",
        "import math\n",
        "import time\n",
        "\n",
        "start = time.time()\n",
        "\n",
        "x = 700\n",
        "epsilon = 10**(-20)\n",
        "\n",
        "xo = x\n",
        "\n",
        "if x < 0 :\n",
        "   x = - x\n",
        "\n",
        "delta = 1\n",
        "e_to_x = 0\n",
        "i = 0\n",
        "while  epsilon <= abs(delta):\n",
        "  delta = x**i/math.factorial(i) \n",
        "  e_to_x += delta\n",
        "  i = i+1\n",
        "\n",
        "if x != xo: \n",
        "  e_to_x = 1 / e_to_x\n",
        "  x = xo\n",
        "\n",
        "end = time.time()\n",
        "\n",
        "print(\"n = \",i-1) \n",
        "print('x = ',x)\n",
        "print('e_to_x ≈ ∑_{i=0}^'+str(i-1),'x^i/i! =',e_to_x)\n",
        "print(\"epsilon =\",\"{:.0e}\".format(epsilon))     \n",
        "print('math.exp(x) = ',math.exp(x))\n",
        "print('time = ',end - start)"
      ],
      "metadata": {
        "colab": {
          "base_uri": "https://localhost:8080/"
        },
        "id": "_w6F5Vv6P1TA",
        "outputId": "7b372ea9-53e8-47ca-b561-05bc07f8004a"
      },
      "execution_count": 14,
      "outputs": [
        {
          "output_type": "stream",
          "name": "stdout",
          "text": [
            "n =  1944\n",
            "x =  700\n",
            "e_to_x ≈ ∑_{i=0}^1944 x^i/i! = 1.0142320547350051e+304\n",
            "epsilon = 1e-20\n",
            "math.exp(x) =  1.0142320547350045e+304\n",
            "time =  0.20572185516357422\n"
          ]
        }
      ]
    },
    {
      "cell_type": "markdown",
      "source": [
        "Inefficient\n",
        "\n",
        "$$ e^{ x} \\approx \\sum_{i=0}^{n} \\frac{x^i}{i!} =  \\sum_{i=1}^{n} \\frac{\\overset{i\\ times}{x*x*\\cdots*x}}{1*2*\\cdots*i}$$\n",
        "\n",
        "> Indented block\n",
        "\n",
        "\n",
        "\n",
        "Additions\n",
        "$$ n \\text{ additions } $$\n",
        "\n",
        "Multiplications\n",
        "\n",
        "* Powers\n",
        "$$ \\overset{i\\ times}{x*x*\\cdots*x}$$\n",
        "$$i-1 \\text{ multiplications }$$\n",
        "$$ \\sum_{i=1}^{n}\\ i-1 = \\frac{n(n-1)}{2} = \\frac{1}{2} n^2 - \\frac{1}{2} n\\text{ mutiplications}$$\n",
        "\n",
        "* Factorials\n",
        "$$1*2*\\cdots*i$$\n",
        "$$  i-1 \\text{ mutiplications }  $$\n",
        "$$ \\sum_{i=1}^{n} i-1 = \\frac{n(n-1)}{2} = \\frac{1}{2} n^2 - \\frac{1}{2} n\\text{ mutiplications}$$\n",
        "\n",
        "Divisions\n",
        "$$ n-1 \\text{ divsions }$$ \n",
        "\n",
        "TOTAL \n",
        "$$ n^2  + n -1  = \\Theta(n^2) \\text{ FLOPS }$$ "
      ],
      "metadata": {
        "id": "WIOnwq-sTfVa"
      }
    },
    {
      "cell_type": "code",
      "source": [
        "# Returns Min n, |x^{n}/n!| < epsilon and ∑_{i=0}^{n} x^i/i!\n",
        "\n",
        "import time\n",
        "\n",
        "start = time.time()\n",
        "\n",
        "x = 700\n",
        "epsilon = 10**(-20)\n",
        "\n",
        "xo = x\n",
        "\n",
        "if x < 0 :\n",
        "   x = - x\n",
        "\n",
        "delta = 1\n",
        "e_to_x = 1\n",
        "i = 1\n",
        "while  epsilon <= abs(delta):\n",
        "  \n",
        "  x_to_i = 1\n",
        "  fact_of_i = 1\n",
        "  for k in range(1,i+1):\n",
        "      x_to_i *= x\n",
        "      fact_of_i *= k\n",
        "\n",
        "  delta = x_to_i/fact_of_i \n",
        "  e_to_x += delta\n",
        "  i = i+1\n",
        "\n",
        "if x != xo: \n",
        "  e_to_x = 1 / e_to_x\n",
        "  x = xo\n",
        "\n",
        "end = time.time()\n",
        "\n",
        "print(\"n = \",i-1) \n",
        "print('x = ',x)\n",
        "print('e_to_x ≈ ∑_{i=0}^'+str(i-1),'x^i/i! =',e_to_x)\n",
        "print(\"epsilon =\",\"{:.0e}\".format(epsilon))     \n",
        "print('math.exp(x) = ',math.exp(x))\n",
        "print('time = ',end - start)"
      ],
      "metadata": {
        "colab": {
          "base_uri": "https://localhost:8080/"
        },
        "id": "plhAy584UrUw",
        "outputId": "04a9f17b-a1b7-4f07-bda9-710133a302ab"
      },
      "execution_count": 15,
      "outputs": [
        {
          "output_type": "stream",
          "name": "stdout",
          "text": [
            "n =  1944\n",
            "x =  700\n",
            "e_to_x ≈ ∑_{i=0}^1944 x^i/i! = 1.0142320547350051e+304\n",
            "epsilon = 1e-20\n",
            "math.exp(x) =  1.0142320547350045e+304\n",
            "time =  1.6744465827941895\n"
          ]
        }
      ]
    },
    {
      "cell_type": "markdown",
      "metadata": {
        "id": "TxhZ8nnZpvbt"
      },
      "source": [
        "# Error using the Lagrange's formula of the Residual $E_n$\n",
        "\n",
        "* Form: Numerical Analysis Mathematics of Scientific Computing David Kincaid and Ward Cheney and Error estimates in Taylor approximations https://math.dartmouth.edu/~m8s17/ErrorEstimates.pdf\n",
        "\n",
        "## Lagrange's formula of the Residual\n",
        "For the Taylor series for $f(x)$\n",
        "\n",
        "$$ E_n = \\frac{f^{(n+1)}(\\xi)}{(n+1)!}(x-c)^{(n+1)} \\text{ for }  \\xi \\text{ between } c \\text{ and } x $$\n",
        "\n",
        "If you can find a positive real number $M$such that \n",
        "$$\\left|f^{(n+1)}(\\xi)\\right|  \\le M \\text{ for }  \\xi \\text{ between } c \\text{ and } x $$ for all\n",
        " then Lagrange’s formula tells you\n",
        "that\n",
        "$$ \\left| E_n \\right| \\le  \\frac{M}{(n+1)!}\n",
        "\\left|x − c\\right|^{(n+1)} $$\n",
        "\n",
        "For the Taylor series for $f(x) = e^x$ about $c=0$ (Maclaurin) \n",
        "\n",
        "* If $x \\ge 0$ then $f(n+1)(ξ)= e^ξ < e^x$ for any $0 \\le \\xi \\le x$ then \n",
        "\n",
        "$$ \\left|E_n \\right| =  \\left|\\frac{f^{(n+1)}(\\xi)}{(n+1)!}(x-c)^{(n+1)} \\right| = \\left|\\frac{e^\\xi}{(n+1)!}x^{(n+1)} \\right| \\le \\left| \\frac{e^x}{(n+1)!}x^{(n+1)} \\right| $$\n",
        "\n",
        "\n",
        "\n"
      ]
    },
    {
      "cell_type": "markdown",
      "source": [
        "<center>\n",
        "<img src = \"https://raw.githubusercontent.com/gjhernandezp/NM/main/Taylor%20Series/e_to_epsilon.png\" alt = \"e_to_minus_epsilon.png]\">  </img>\n",
        "</center>"
      ],
      "metadata": {
        "id": "jH_Sb6MJ-ouX"
      }
    },
    {
      "cell_type": "markdown",
      "source": [
        "* If $x \\le 0$ then $f(n+1)(ξ)= e^ξ < e^0  = 1$ for any $x \\le \\xi < 0$ then \n",
        "\n",
        "$$ \\left|E_n =\\right| = \\left|\\frac{f^{(n+1)}(\\xi)}{(n+1)!}(x-c)^{(n+1)} \\right| = \\left|\\frac{e^\\xi}{(n+1)!}x^{(n+1)} \\right| \\le  \\left|\\frac{1}{(n+1)!}x^{(n+1)}\\right| $$"
      ],
      "metadata": {
        "id": "q5c6Do4u4-PM"
      }
    },
    {
      "cell_type": "markdown",
      "source": [
        "<center>\n",
        "<img src = \"https://raw.githubusercontent.com/gjhernandezp/NM/main/Taylor%20Series/e_to_minus_epsilon.png\" alt = \"e_to_minus_epsilon.png]\">  </img>\n",
        "</center>\n",
        "\n"
      ],
      "metadata": {
        "id": "xREpo166-2I0"
      }
    },
    {
      "cell_type": "markdown",
      "metadata": {
        "id": "y1fLchcRq-mT"
      },
      "source": [
        "# What is the minimun $n$ for which the error using absolute value of the Lagrange's formula of the Residual $|E_n|$, of the Taylor series for $e^x$ about $0$ (Maclaurin  series), is less than  $\\epsilon$.\n",
        "\n",
        "$$ \\min_{n \\in \\mathbb{N}}|E_n|  < \\epsilon $$\n",
        "\n",
        "this is\n",
        "\n",
        "$$\\min_{n \\in \\mathbb{N}}\\left\\{ \\left|\\frac{e^x}{(n+1)!}x^{(n+1)} \\right| \\right\\} < \\epsilon \\text{ if }  x \\ge 0$$\n",
        "\n",
        "and\n",
        "\n",
        "$$\\min_{n \\in \\mathbb{N}}\\left\\{  \\left|\\frac{1}{(n+1)!}x^{(n+1)} \\right| \\right\\} < \\epsilon \\text{ if }  x < 0$$\n",
        " "
      ]
    },
    {
      "cell_type": "code",
      "metadata": {
        "colab": {
          "base_uri": "https://localhost:8080/"
        },
        "id": "hBLCJ5mUqu4T",
        "outputId": "b5bf577c-2e52-4d86-d0d1-07240032574d"
      },
      "source": [
        "import math\n",
        "\n",
        "x = 1\n",
        "epsilon = 10**(-12)\n",
        "sin_of_x = 0\n",
        "i = 0\n",
        "error = (math.sin(x+(((i+1)*math.pi)/2))/math.factorial(i+1))*x**(i+1)\n",
        "print(\"n\".rjust(10),\" \",\"∑_{i=1}^n  ((-1)^i) * (x^(2i+1) / (2i+1)!\".center(21),\" \",\"error=((-1)^i) * (x^(2i+1) / (2i+1)!\".center(20),\" \",\"epsilon\".center(20))\n",
        "while  epsilon <= abs(error):\n",
        "  sin_of_x +=  ((-1)**i)*((x**(2*i+1)) / math.factorial(2*i+1)) \n",
        "  error = (math.sin(x+(((i+1)*math.pi)/2))/math.factorial(i+1))*x**(i+1)\n",
        "  \n",
        "  print(format(i, '10'),\"  \", format(sin_of_x, '.17f'),\"                      \",format(error, '.17f'),\"                     \",format(epsilon, '.17f')) \n",
        "  i = i+1\n",
        "print(\"n = \",i-1) \n",
        "print('x = ',x)\n",
        "print('sin_of_x ≈ ∑_{i=1}^'+str(i-1),'((-1)^i) * (x^(2i+1) / (2i+1)! =',sin_of_x)    \n",
        "print('math.sin(x) = ',math.sin(x))"
      ],
      "execution_count": 16,
      "outputs": [
        {
          "output_type": "stream",
          "name": "stdout",
          "text": [
            "         n   ∑_{i=1}^n  ((-1)^i) * (x^(2i+1) / (2i+1)!   error=((-1)^i) * (x^(2i+1) / (2i+1)!         epsilon       \n",
            "         0    1.00000000000000000                        0.54030230586813977                       0.00000000000100000\n",
            "         1    0.83333333333333337                        -0.42073549240394820                       0.00000000000100000\n",
            "         2    0.84166666666666667                        -0.09005038431135665                       0.00000000000100000\n",
            "         3    0.84146825396825398                        0.03506129103366235                       0.00000000000100000\n",
            "         4    0.84147100970017641                        0.00450251921556783                       0.00000000000100000\n",
            "         5    0.84147098464806802                        -0.00116870970112208                       0.00000000000100000\n",
            "         6    0.84147098480865845                        -0.00010720283846590                       0.00000000000100000\n",
            "         7    0.84147098480789373                        0.00002086981609147                       0.00000000000100000\n",
            "         8    0.84147098480789650                        0.00000148892831203                       0.00000000000100000\n",
            "         9    0.84147098480789650                        -0.00000023188684546                       0.00000000000100000\n",
            "        10    0.84147098480789650                        -0.00000001353571193                       0.00000000000100000\n",
            "        11    0.84147098480789650                        0.00000000175671853                       0.00000000000100000\n",
            "        12    0.84147098480789650                        0.00000000008676738                       0.00000000000100000\n",
            "        13    0.84147098480789650                        -0.00000000000965230                       0.00000000000100000\n",
            "        14    0.84147098480789650                        -0.00000000000041318                       0.00000000000100000\n",
            "n =  14\n",
            "x =  1\n",
            "sin_of_x ≈ ∑_{i=1}^14 ((-1)^i) * (x^(2i+1) / (2i+1)! = 0.8414709848078965\n",
            "math.sin(x) =  0.8414709848078965\n"
          ]
        }
      ]
    },
    {
      "cell_type": "code",
      "source": [
        "# Returns Min n, |Lagrange Residual| < epsilon and ∑_{i=0}^{n} x^i/i!\n",
        "\n",
        "import math\n",
        "\n",
        "x = -4\n",
        "epsilon = 10**(-12)\n",
        "sin_of_x = 0\n",
        "i = 0\n",
        "error = (math.sin(x+(((i+1)*math.pi)/2))/math.factorial(i+1))*x**(i+1)\n",
        "print(\"n\".rjust(10),\" \",\"∑_{i=1}^n  ((-1)^i) * (x^(2i+1) / (2i+1)!\".center(21),\" \",\"error=((-1)^i) * (x^(2i+1) / (2i+1)!\".center(20),\" \",\"epsilon\".center(20))\n",
        "while  epsilon <= abs(error):\n",
        "  sin_of_x +=  ((-1)**i)*((x**(2*i+1)) / math.factorial(2*i+1)) \n",
        "  error = (math.sin(x+(((i+1)*math.pi)/2))/math.factorial(i+1))*x**(i+1)\n",
        "  \n",
        "  print(format(i, '10'),\"  \", format(sin_of_x, '.17f'),\"                      \",format(error, '.17f'),\"                     \",format(epsilon, '.17f')) \n",
        "  i = i+1\n",
        "print(\"n = \",i-1) \n",
        "print('x = ',x)\n",
        "print('sin_of_x ≈ ∑_{i=1}^'+str(i-1),'((-1)^i) * (x^(2i+1) / (2i+1)! =',sin_of_x)    \n",
        "print('math.sin(x) = ',math.sin(x))"
      ],
      "metadata": {
        "colab": {
          "base_uri": "https://localhost:8080/"
        },
        "id": "EzCCSnD15R0X",
        "outputId": "82f01c84-8b94-44fc-de9d-4044316c9934"
      },
      "execution_count": 17,
      "outputs": [
        {
          "output_type": "stream",
          "name": "stdout",
          "text": [
            "         n   ∑_{i=1}^n  ((-1)^i) * (x^(2i+1) / (2i+1)!   error=((-1)^i) * (x^(2i+1) / (2i+1)!         epsilon       \n",
            "         0    -4.00000000000000000                        2.61457448345444732                       0.00000000000100000\n",
            "         1    6.66666666666666607                        -6.05441996246342651                       0.00000000000100000\n",
            "         2    -1.86666666666666714                        -6.97219862254519285                       0.00000000000100000\n",
            "         3    1.38412698412698365                        8.07255994995123594                       0.00000000000100000\n",
            "         4    0.66172839506172787                        5.57775889803615321                       0.00000000000100000\n",
            "         5    0.76680455347121956                        -4.30536530664066053                       0.00000000000100000\n",
            "         6    0.75602751158306658                        -2.12486053258520080                       0.00000000000100000\n",
            "         7    0.75684861953644966                        1.23010437332590294                       0.00000000000100000\n",
            "         8    0.75680031906860357                        0.47219122946337788                       0.00000000000100000\n",
            "         9    0.75680257873961387                        -0.21868522192460499                       0.00000000000100000\n",
            "        10    0.75680249265690869                        -0.06868236064921845                       0.00000000000100000\n",
            "        11    0.75680249537889144                        0.02650729962722485                       0.00000000000100000\n",
            "        12    0.75680249530630528                        0.00704434468197115                       0.00000000000100000\n",
            "        13    0.75680249530795962                        -0.00233031205514065                       0.00000000000100000\n",
            "        14    0.75680249530792698                        -0.00053671197576923                       0.00000000000100000\n",
            "        15    0.75680249530792754                        0.00015535413700938                       0.00000000000100000\n",
            "        16    0.75680249530792754                        0.00003157129269231                       0.00000000000100000\n",
            "        17    0.75680249530792754                        -0.00000812309213121                       0.00000000000100000\n",
            "        18    0.75680249530792754                        -0.00000147701954116                       0.00000000000100000\n",
            "        19    0.75680249530792754                        0.00000034202493184                       0.00000000000100000\n",
            "        20    0.75680249530792754                        0.00000005626741109                       0.00000000000100000\n",
            "        21    0.75680249530792754                        -0.00000001184501928                       0.00000000000100000\n",
            "        22    0.75680249530792754                        -0.00000000177920667                       0.00000000000100000\n",
            "        23    0.75680249530792754                        0.00000000034333389                       0.00000000000100000\n",
            "        24    0.75680249530792754                        0.00000000004744551                       0.00000000000100000\n",
            "        25    0.75680249530792754                        -0.00000000000845130                       0.00000000000100000\n",
            "        26    0.75680249530792754                        -0.00000000000108138                       0.00000000000100000\n",
            "        27    0.75680249530792754                        0.00000000000017886                       0.00000000000100000\n",
            "n =  27\n",
            "x =  -4\n",
            "sin_of_x ≈ ∑_{i=1}^27 ((-1)^i) * (x^(2i+1) / (2i+1)! = 0.7568024953079275\n",
            "math.sin(x) =  0.7568024953079282\n"
          ]
        }
      ]
    },
    {
      "cell_type": "markdown",
      "source": [
        "#  Sympy\n",
        "\n",
        "Taylor Series Expansion with Python from Data Science Fabric\n",
        "\n",
        "https://dsfabric.org/taylor-series-expansion-with-python"
      ],
      "metadata": {
        "id": "cx2-LoLzahoa"
      }
    },
    {
      "cell_type": "code",
      "source": [
        "from sympy import series, Symbol, pi, E, N\n",
        "from sympy.functions import sin\n",
        "from sympy.functions import exp\n",
        "from sympy.plotting import plot\n",
        "import matplotlib.pyplot as plt"
      ],
      "metadata": {
        "id": "hGQPpZ8gaVWN"
      },
      "execution_count": 18,
      "outputs": []
    },
    {
      "cell_type": "code",
      "source": [
        "# Define symbol\n",
        "x = Symbol('x')"
      ],
      "metadata": {
        "id": "qiHCCJ3napkY"
      },
      "execution_count": 19,
      "outputs": []
    },
    {
      "cell_type": "code",
      "source": [
        "# Function for Taylor Series Expansion\n",
        "\n",
        "def taylor(function, x0, n):\n",
        "    \"\"\"\n",
        "    Parameter \"function\" is our function which we want to approximate\n",
        "    \"x0\" is the point where to approximate\n",
        "    \"n\" is the order of approximation\n",
        "    \"\"\"\n",
        "    return function.series(x,x0,n)"
      ],
      "metadata": {
        "id": "z9fkRjbJatry"
      },
      "execution_count": 20,
      "outputs": []
    },
    {
      "cell_type": "code",
      "source": [
        "print('sin(x)  ≅')\n",
        "taylor(sin(x), 0, 8)"
      ],
      "metadata": {
        "colab": {
          "base_uri": "https://localhost:8080/",
          "height": 71
        },
        "id": "bEtq3o7Waym6",
        "outputId": "ac258e89-8e84-4bde-c688-042097ec292f"
      },
      "execution_count": 21,
      "outputs": [
        {
          "output_type": "stream",
          "name": "stdout",
          "text": [
            "sin(x)  ≅\n"
          ]
        },
        {
          "output_type": "execute_result",
          "data": {
            "text/plain": [
              "x - x**3/6 + x**5/120 - x**7/5040 + O(x**8)"
            ],
            "text/latex": "$\\displaystyle x - \\frac{x^{3}}{6} + \\frac{x^{5}}{120} - \\frac{x^{7}}{5040} + O\\left(x^{8}\\right)$"
          },
          "metadata": {},
          "execution_count": 21
        }
      ]
    },
    {
      "cell_type": "code",
      "source": [
        "print('sin(x) ≅', taylor(sin(x), 0, 8))"
      ],
      "metadata": {
        "colab": {
          "base_uri": "https://localhost:8080/"
        },
        "id": "VU2Q0vuYa_xQ",
        "outputId": "61be9f5d-ebdd-4cbb-de28-17eaaeba084f"
      },
      "execution_count": 22,
      "outputs": [
        {
          "output_type": "stream",
          "name": "stdout",
          "text": [
            "sin(x) ≅ x - x**3/6 + x**5/120 - x**7/5040 + O(x**8)\n"
          ]
        }
      ]
    },
    {
      "cell_type": "code",
      "source": [
        "print('sin(x) ≅ at around 1')\n",
        "taylor(sin(x), 1, 8)"
      ],
      "metadata": {
        "colab": {
          "base_uri": "https://localhost:8080/",
          "height": 104
        },
        "id": "iX0DNQdrbtdY",
        "outputId": "02a4faad-7ef3-4f47-92d1-9e45f59c48b0"
      },
      "execution_count": 23,
      "outputs": [
        {
          "output_type": "stream",
          "name": "stdout",
          "text": [
            "sin(x) ≅ at around 1\n"
          ]
        },
        {
          "output_type": "execute_result",
          "data": {
            "text/plain": [
              "sin(1) + (x - 1)*cos(1) - (x - 1)**2*sin(1)/2 - (x - 1)**3*cos(1)/6 + (x - 1)**4*sin(1)/24 + (x - 1)**5*cos(1)/120 - (x - 1)**6*sin(1)/720 - (x - 1)**7*cos(1)/5040 + O((x - 1)**8, (x, 1))"
            ],
            "text/latex": "$\\displaystyle \\sin{\\left(1 \\right)} + \\left(x - 1\\right) \\cos{\\left(1 \\right)} - \\frac{\\left(x - 1\\right)^{2} \\sin{\\left(1 \\right)}}{2} - \\frac{\\left(x - 1\\right)^{3} \\cos{\\left(1 \\right)}}{6} + \\frac{\\left(x - 1\\right)^{4} \\sin{\\left(1 \\right)}}{24} + \\frac{\\left(x - 1\\right)^{5} \\cos{\\left(1 \\right)}}{120} - \\frac{\\left(x - 1\\right)^{6} \\sin{\\left(1 \\right)}}{720} - \\frac{\\left(x - 1\\right)^{7} \\cos{\\left(1 \\right)}}{5040} + O\\left(\\left(x - 1\\right)^{8}; x\\rightarrow 1\\right)$"
          },
          "metadata": {},
          "execution_count": 23
        }
      ]
    },
    {
      "cell_type": "code",
      "source": [
        "print('sin(1) =', taylor(sin(x), 0, 4).subs(x,1))"
      ],
      "metadata": {
        "colab": {
          "base_uri": "https://localhost:8080/"
        },
        "id": "0sfHK6K4b7KQ",
        "outputId": "048dc81b-c94a-4253-ba7a-105d434a4ce1"
      },
      "execution_count": 24,
      "outputs": [
        {
          "output_type": "stream",
          "name": "stdout",
          "text": [
            "sin(1) = O(1)\n"
          ]
        }
      ]
    },
    {
      "cell_type": "code",
      "source": [
        "print('sin(1) =', N(taylor(sin(x), 0, 4).subs(x,1)))"
      ],
      "metadata": {
        "colab": {
          "base_uri": "https://localhost:8080/"
        },
        "id": "t64ikINpcL-v",
        "outputId": "dfea4a0b-8e63-447e-9558-98660d5b382a"
      },
      "execution_count": 25,
      "outputs": [
        {
          "output_type": "stream",
          "name": "stdout",
          "text": [
            "sin(1) = O(1)\n"
          ]
        }
      ]
    },
    {
      "cell_type": "code",
      "source": [
        "print('Taylor 0 sin(x) ≅', taylor(sin(x), 0, 0))\n",
        "print('Taylor 1 sin(x) ≅', taylor(sin(x), 0, 1))\n",
        "print('Taylor 2 sin(x) ≅', taylor(sin(x), 0, 2))\n",
        "print('Taylor 3 sin(x) ≅', taylor(sin(x), 0, 3))\n",
        "print('Taylor 4 sin(x) ≅', taylor(sin(x), 0, 4))\n",
        "print('Taylor 5 sin(x) ≅', taylor(sin(x), 0, 5))\n",
        "print('Taylor 6 sin(x) ≅', taylor(sin(x), 0, 6))\n",
        "print('Taylor 7 sin(x) ≅', taylor(sin(x), 0, 7))\n",
        "print('Taylor 8 sin(x) ≅', taylor(sin(x), 0, 8))\n"
      ],
      "metadata": {
        "colab": {
          "base_uri": "https://localhost:8080/"
        },
        "id": "ytUFqliacVnQ",
        "outputId": "ba15d4dc-3c24-4517-c667-a0d49dd55ac4"
      },
      "execution_count": 26,
      "outputs": [
        {
          "output_type": "stream",
          "name": "stdout",
          "text": [
            "Taylor 0 sin(x) ≅ O(1)\n",
            "Taylor 1 sin(x) ≅ O(x)\n",
            "Taylor 2 sin(x) ≅ x + O(x**2)\n",
            "Taylor 3 sin(x) ≅ x + O(x**3)\n",
            "Taylor 4 sin(x) ≅ x - x**3/6 + O(x**4)\n",
            "Taylor 5 sin(x) ≅ x - x**3/6 + O(x**5)\n",
            "Taylor 6 sin(x) ≅ x - x**3/6 + x**5/120 + O(x**6)\n",
            "Taylor 7 sin(x) ≅ x - x**3/6 + x**5/120 + O(x**7)\n",
            "Taylor 8 sin(x) ≅ x - x**3/6 + x**5/120 - x**7/5040 + O(x**8)\n"
          ]
        }
      ]
    },
    {
      "cell_type": "code",
      "source": [
        "print('Taylor 0 sin(x) ≅', taylor(sin(x), 0, 0).subs(x,1))\n",
        "print('Taylor 1 sin(x) ≅', taylor(sin(x), 0, 1).subs(x,1))\n",
        "print('Taylor 2 sin(x) ≅', taylor(sin(x), 0, 2).subs(x,1))\n",
        "print('Taylor 3 sin(x) ≅', taylor(sin(x), 0, 3).subs(x,1))\n",
        "print('Taylor 4 sin(x) ≅', taylor(sin(x), 0, 4).subs(x,1))\n",
        "print('Taylor 5 sin(x) ≅', taylor(sin(x), 0, 5).subs(x,1))\n",
        "print('Taylor 6 sin(x) ≅', taylor(sin(x), 0, 6).subs(x,1))\n",
        "print('Taylor 7 sin(x) ≅', taylor(sin(x), 0, 7).subs(x,1))\n",
        "print('Taylor 8 sin(x) ≅', taylor(sin(x), 0, 8).subs(x,1))"
      ],
      "metadata": {
        "colab": {
          "base_uri": "https://localhost:8080/"
        },
        "id": "iGvi9RgacapA",
        "outputId": "cb6cb829-b5b1-4ee7-b8f5-d50e1ba7ecfe"
      },
      "execution_count": 27,
      "outputs": [
        {
          "output_type": "stream",
          "name": "stdout",
          "text": [
            "Taylor 0 sin(x) ≅ O(1)\n",
            "Taylor 1 sin(x) ≅ O(1)\n",
            "Taylor 2 sin(x) ≅ O(1)\n",
            "Taylor 3 sin(x) ≅ O(1)\n",
            "Taylor 4 sin(x) ≅ O(1)\n",
            "Taylor 5 sin(x) ≅ O(1)\n",
            "Taylor 6 sin(x) ≅ O(1)\n",
            "Taylor 7 sin(x) ≅ O(1)\n",
            "Taylor 8 sin(x) ≅ O(1)\n"
          ]
        }
      ]
    },
    {
      "cell_type": "code",
      "source": [
        "print('Taylor 0 sin(x) ≅', N(taylor(sin(x), 0, 0).subs(x,1)))\n",
        "print('Taylor 1 sin(x) ≅', N(taylor(sin(x), 0, 1).subs(x,1)))\n",
        "print('Taylor 2 sin(x) ≅', N(taylor(sin(x), 0, 2).subs(x,1)))\n",
        "print('Taylor 3 sin(x) ≅', N(taylor(sin(x), 0, 3).subs(x,1)))\n",
        "print('Taylor 4 sin(x) ≅', N(taylor(sin(x), 0, 4).subs(x,1)))\n",
        "print('Taylor 5 sin(x) ≅', N(taylor(sin(x), 0, 5).subs(x,1)))\n",
        "print('Taylor 6 sin(x) ≅', N(taylor(sin(x), 0, 6).subs(x,1)))\n",
        "print('Taylor 7 sin(x) ≅', N(taylor(sin(x), 0, 7).subs(x,1)))\n",
        "print('Taylor 8 sin(x) ≅', N(taylor(sin(x), 0, 8).subs(x,1)))"
      ],
      "metadata": {
        "colab": {
          "base_uri": "https://localhost:8080/"
        },
        "id": "N_VVBah_crmQ",
        "outputId": "be094b2f-eac1-487a-f2b6-6b408c76b76f"
      },
      "execution_count": 28,
      "outputs": [
        {
          "output_type": "stream",
          "name": "stdout",
          "text": [
            "Taylor 0 sin(x) ≅ O(1)\n",
            "Taylor 1 sin(x) ≅ O(1)\n",
            "Taylor 2 sin(x) ≅ O(1)\n",
            "Taylor 3 sin(x) ≅ O(1)\n",
            "Taylor 4 sin(x) ≅ O(1)\n",
            "Taylor 5 sin(x) ≅ O(1)\n",
            "Taylor 6 sin(x) ≅ O(1)\n",
            "Taylor 7 sin(x) ≅ O(1)\n",
            "Taylor 8 sin(x) ≅ O(1)\n"
          ]
        }
      ]
    },
    {
      "cell_type": "code",
      "source": [
        "# Function for Taylor Series Expansion\n",
        "\n",
        "def taylor(function, x0, n):\n",
        "    \"\"\"\n",
        "    Parameter \"function\" is our function which we want to approximate\n",
        "    \"x0\" is the point where to approximate\n",
        "    \"n\" is the order of approximation\n",
        "    \"\"\"\n",
        "    return function.series(x,x0,n).removeO()"
      ],
      "metadata": {
        "id": "Gv65YRzdc3qQ"
      },
      "execution_count": 29,
      "outputs": []
    },
    {
      "cell_type": "code",
      "source": [
        "print('sin(x)  ≅')\n",
        "taylor(sin(x), 0, 8)"
      ],
      "metadata": {
        "colab": {
          "base_uri": "https://localhost:8080/",
          "height": 71
        },
        "id": "EQtZRYJpc5Ro",
        "outputId": "2a78e2ec-2ac9-4687-dabf-95b997cf5c72"
      },
      "execution_count": 30,
      "outputs": [
        {
          "output_type": "stream",
          "name": "stdout",
          "text": [
            "sin(x)  ≅\n"
          ]
        },
        {
          "output_type": "execute_result",
          "data": {
            "text/plain": [
              "-x**7/5040 + x**5/120 - x**3/6 + x"
            ],
            "text/latex": "$\\displaystyle - \\frac{x^{7}}{5040} + \\frac{x^{5}}{120} - \\frac{x^{3}}{6} + x$"
          },
          "metadata": {},
          "execution_count": 30
        }
      ]
    },
    {
      "cell_type": "code",
      "source": [
        "print('sin(x) ≅', taylor(sin(x), 0, 8))"
      ],
      "metadata": {
        "colab": {
          "base_uri": "https://localhost:8080/"
        },
        "id": "DcPjj8PWdBap",
        "outputId": "fec1f114-f125-41e5-f03b-844c66468703"
      },
      "execution_count": 31,
      "outputs": [
        {
          "output_type": "stream",
          "name": "stdout",
          "text": [
            "sin(x) ≅ -x**7/5040 + x**5/120 - x**3/6 + x\n"
          ]
        }
      ]
    },
    {
      "cell_type": "code",
      "source": [
        "print('sin(x) ≅ at around 1')\n",
        "taylor(sin(x), 1, 8)"
      ],
      "metadata": {
        "colab": {
          "base_uri": "https://localhost:8080/",
          "height": 74
        },
        "outputId": "84719599-89f8-4dd6-9f70-e6b73dd12bc4",
        "id": "OXZgOve0dS67"
      },
      "execution_count": 32,
      "outputs": [
        {
          "output_type": "stream",
          "name": "stdout",
          "text": [
            "sin(x) ≅ at around 1\n"
          ]
        },
        {
          "output_type": "execute_result",
          "data": {
            "text/plain": [
              "-(x - 1)**7*cos(1)/5040 - (x - 1)**6*sin(1)/720 + (x - 1)**5*cos(1)/120 + (x - 1)**4*sin(1)/24 - (x - 1)**3*cos(1)/6 - (x - 1)**2*sin(1)/2 + (x - 1)*cos(1) + sin(1)"
            ],
            "text/latex": "$\\displaystyle - \\frac{\\left(x - 1\\right)^{7} \\cos{\\left(1 \\right)}}{5040} - \\frac{\\left(x - 1\\right)^{6} \\sin{\\left(1 \\right)}}{720} + \\frac{\\left(x - 1\\right)^{5} \\cos{\\left(1 \\right)}}{120} + \\frac{\\left(x - 1\\right)^{4} \\sin{\\left(1 \\right)}}{24} - \\frac{\\left(x - 1\\right)^{3} \\cos{\\left(1 \\right)}}{6} - \\frac{\\left(x - 1\\right)^{2} \\sin{\\left(1 \\right)}}{2} + \\left(x - 1\\right) \\cos{\\left(1 \\right)} + \\sin{\\left(1 \\right)}$"
          },
          "metadata": {},
          "execution_count": 32
        }
      ]
    },
    {
      "cell_type": "code",
      "source": [
        "print('sin(1) =', taylor(sin(x), 0, 4).subs(x,1))"
      ],
      "metadata": {
        "colab": {
          "base_uri": "https://localhost:8080/"
        },
        "outputId": "eff5929f-9821-45b4-99b1-24d9d29078b0",
        "id": "8OvEA2B8dS69"
      },
      "execution_count": 33,
      "outputs": [
        {
          "output_type": "stream",
          "name": "stdout",
          "text": [
            "sin(1) = 5/6\n"
          ]
        }
      ]
    },
    {
      "cell_type": "code",
      "source": [
        "print('sin(1) =', N(taylor(sin(x), 0, 4).subs(x,1)))"
      ],
      "metadata": {
        "colab": {
          "base_uri": "https://localhost:8080/"
        },
        "outputId": "59ae5d78-6c4f-4f13-98f5-85f03d35b572",
        "id": "HjQaTc7QdS6-"
      },
      "execution_count": 34,
      "outputs": [
        {
          "output_type": "stream",
          "name": "stdout",
          "text": [
            "sin(1) = 0.833333333333333\n"
          ]
        }
      ]
    },
    {
      "cell_type": "code",
      "source": [
        "print('Taylor 0 sin(x) ≅', taylor(sin(x), 0, 0))\n",
        "print('Taylor 1 sin(x) ≅', taylor(sin(x), 0, 1))\n",
        "print('Taylor 2 sin(x) ≅', taylor(sin(x), 0, 2))\n",
        "print('Taylor 3 sin(x) ≅', taylor(sin(x), 0, 3))\n",
        "print('Taylor 4 sin(x) ≅', taylor(sin(x), 0, 4))\n",
        "print('Taylor 5 sin(x) ≅', taylor(sin(x), 0, 5))\n",
        "print('Taylor 6 sin(x) ≅', taylor(sin(x), 0, 6))\n",
        "print('Taylor 7 sin(x) ≅', taylor(sin(x), 0, 7))\n",
        "print('Taylor 8 sin(x) ≅', taylor(sin(x), 0, 8))"
      ],
      "metadata": {
        "colab": {
          "base_uri": "https://localhost:8080/"
        },
        "outputId": "30a94527-31b2-4792-b4ad-a7d55aa2cafc",
        "id": "8H_qhh0OdS6-"
      },
      "execution_count": 35,
      "outputs": [
        {
          "output_type": "stream",
          "name": "stdout",
          "text": [
            "Taylor 0 sin(x) ≅ 0\n",
            "Taylor 1 sin(x) ≅ 0\n",
            "Taylor 2 sin(x) ≅ x\n",
            "Taylor 3 sin(x) ≅ x\n",
            "Taylor 4 sin(x) ≅ -x**3/6 + x\n",
            "Taylor 5 sin(x) ≅ -x**3/6 + x\n",
            "Taylor 6 sin(x) ≅ x**5/120 - x**3/6 + x\n",
            "Taylor 7 sin(x) ≅ x**5/120 - x**3/6 + x\n",
            "Taylor 8 sin(x) ≅ -x**7/5040 + x**5/120 - x**3/6 + x\n"
          ]
        }
      ]
    },
    {
      "cell_type": "code",
      "source": [
        "print('Taylor 0 sin(x) ≅', taylor(sin(x), 0, 0).subs(x,1))\n",
        "print('Taylor 1 sin(x) ≅', taylor(sin(x), 0, 1).subs(x,1))\n",
        "print('Taylor 2 sin(x) ≅', taylor(sin(x), 0, 2).subs(x,1))\n",
        "print('Taylor 3 sin(x) ≅', taylor(sin(x), 0, 3).subs(x,1))\n",
        "print('Taylor 4 sin(x) ≅', taylor(sin(x), 0, 4).subs(x,1))\n",
        "print('Taylor 5 sin(x) ≅', taylor(sin(x), 0, 5).subs(x,1))\n",
        "print('Taylor 6 sin(x) ≅', taylor(sin(x), 0, 6).subs(x,1))\n",
        "print('Taylor 7 sin(x) ≅', taylor(sin(x), 0, 7).subs(x,1))\n",
        "print('Taylor 8 sin(x) ≅', taylor(sin(x), 0, 8).subs(x,1))"
      ],
      "metadata": {
        "colab": {
          "base_uri": "https://localhost:8080/"
        },
        "outputId": "5545c6a1-af7b-46f1-8a6f-a393e4a5df20",
        "id": "Nlwipl8zdS6_"
      },
      "execution_count": 36,
      "outputs": [
        {
          "output_type": "stream",
          "name": "stdout",
          "text": [
            "Taylor 0 sin(x) ≅ 0\n",
            "Taylor 1 sin(x) ≅ 0\n",
            "Taylor 2 sin(x) ≅ 1\n",
            "Taylor 3 sin(x) ≅ 1\n",
            "Taylor 4 sin(x) ≅ 5/6\n",
            "Taylor 5 sin(x) ≅ 5/6\n",
            "Taylor 6 sin(x) ≅ 101/120\n",
            "Taylor 7 sin(x) ≅ 101/120\n",
            "Taylor 8 sin(x) ≅ 4241/5040\n"
          ]
        }
      ]
    },
    {
      "cell_type": "code",
      "source": [
        "print('Taylor 0 sin(x) ≅', N(taylor(sin(x), 0, 0).subs(x,1)))\n",
        "print('Taylor 1 sin(x) ≅', N(taylor(sin(x), 0, 1).subs(x,1)))\n",
        "print('Taylor 2 sin(x) ≅', N(taylor(sin(x), 0, 2).subs(x,1)))\n",
        "print('Taylor 3 sin(x) ≅', N(taylor(sin(x), 0, 3).subs(x,1)))\n",
        "print('Taylor 4 sin(x) ≅', N(taylor(sin(x), 0, 4).subs(x,1)))\n",
        "print('Taylor 5 sin(x) ≅', N(taylor(sin(x), 0, 5).subs(x,1)))\n",
        "print('Taylor 6 sin(x) ≅', N(taylor(sin(x), 0, 6).subs(x,1)))\n",
        "print('Taylor 7 sin(x) ≅', N(taylor(sin(x), 0, 7).subs(x,1)))\n",
        "print('Taylor 8 sin(x) ≅', N(taylor(sin(x), 0, 8).subs(x,1)))"
      ],
      "metadata": {
        "colab": {
          "base_uri": "https://localhost:8080/"
        },
        "outputId": "fda4214c-110a-47ff-a25a-91b4ff23043e",
        "id": "xAotZ1UMdS7A"
      },
      "execution_count": 37,
      "outputs": [
        {
          "output_type": "stream",
          "name": "stdout",
          "text": [
            "Taylor 0 sin(x) ≅ 0\n",
            "Taylor 1 sin(x) ≅ 0\n",
            "Taylor 2 sin(x) ≅ 1.00000000000000\n",
            "Taylor 3 sin(x) ≅ 1.00000000000000\n",
            "Taylor 4 sin(x) ≅ 0.833333333333333\n",
            "Taylor 5 sin(x) ≅ 0.833333333333333\n",
            "Taylor 6 sin(x) ≅ 0.841666666666667\n",
            "Taylor 7 sin(x) ≅ 0.841666666666667\n",
            "Taylor 8 sin(x) ≅ 0.841468253968254\n"
          ]
        }
      ]
    },
    {
      "cell_type": "code",
      "source": [
        "import math\n",
        "import numpy as np\n",
        "import matplotlib.pyplot as plt\n",
        "# if using a Jupyter notebook, include:\n",
        "%matplotlib inline\n",
        "\n",
        "values = np.arange(-1,2*np.pi,0.1)\n",
        "p_sin = np.sin(values)\n",
        "t_sin1 = [taylor(sin(x), 0, 1).subs(x,v) for v in values]\n",
        "legends = ['sin() ','Taylor 0 (constant)']\n",
        "\n",
        "fig, ax = plt.subplots()\n",
        "ax.plot(values,p_sin, color ='blue')\n",
        "ax.plot(values,t_sin1)\n",
        "\n",
        "ax.set_ylim([-2,2])\n",
        "ax.axhline(y=0.0, xmin=-5.0, xmax=5.0, color='black')\n",
        "ax.axvline(x=0.0, ymin=-10.0, ymax=10.0, color='black')\n",
        "ax.legend(legends);"
      ],
      "metadata": {
        "colab": {
          "base_uri": "https://localhost:8080/",
          "height": 435
        },
        "id": "ckWMJz7_deTZ",
        "outputId": "9bf4d20e-f5e1-447b-f55e-f1e8a59f87f2"
      },
      "execution_count": 38,
      "outputs": [
        {
          "output_type": "display_data",
          "data": {
            "text/plain": [
              "<Figure size 640x480 with 1 Axes>"
            ],
            "image/png": "[encoded data removed]"
          },
          "metadata": {}
        }
      ]
    },
    {
      "cell_type": "code",
      "metadata": {
        "colab": {
          "base_uri": "https://localhost:8080/",
          "height": 435
        },
        "id": "XvqxBhg8O7Oi",
        "outputId": "056955af-651a-4537-818a-9d569b78f053"
      },
      "source": [
        "import math\n",
        "import numpy as np\n",
        "import matplotlib.pyplot as plt\n",
        "# if using a Jupyter notebook, include:\n",
        "%matplotlib inline\n",
        "\n",
        "values = np.arange(-1,2*np.pi,0.1)\n",
        "p_sin = np.sin(values)\n",
        "t_sin2 = [taylor(sin(x), 0, 2).subs(x,v) for v in values]\n",
        "legends = ['sin() ','Taylor 1 (linear)']\n",
        "\n",
        "fig, ax = plt.subplots()\n",
        "ax.plot(values,p_sin, color ='green')\n",
        "ax.plot(values,t_sin2)\n",
        "\n",
        "ax.set_ylim([-2,2])\n",
        "ax.axhline(y=0.0, xmin=-10.0, xmax=5.0, color='black')\n",
        "ax.axvline(x=0.0, ymin=-10.0, ymax=10.0, color='black')\n",
        "ax.legend(legends)\n",
        "\n",
        "plt.show()"
      ],
      "execution_count": 39,
      "outputs": [
        {
          "output_type": "display_data",
          "data": {
            "text/plain": [
              "<Figure size 640x480 with 1 Axes>"
            ],
            "image/png": "[encoded data removed]"
          },
          "metadata": {}
        }
      ]
    },
    {
      "cell_type": "code",
      "metadata": {
        "colab": {
          "base_uri": "https://localhost:8080/",
          "height": 435
        },
        "id": "PLR1O9HUPFwg",
        "outputId": "75144429-e0d6-41d4-f7d6-7a3350310485"
      },
      "source": [
        "import math\n",
        "import numpy as np\n",
        "import matplotlib.pyplot as plt\n",
        "# if using a Jupyter notebook, include:\n",
        "%matplotlib inline\n",
        "\n",
        "values = np.arange(-5,2*np.pi,0.1)\n",
        "p_sin = np.sin(values)\n",
        "t_sin3 = [taylor(sin(x), 0, 4).subs(x,v) for v in values]\n",
        "legends = ['sin() ','Taylor 3 (cubic)']\n",
        "\n",
        "fig, ax = plt.subplots()\n",
        "ax.plot(values,p_sin, color ='purple')\n",
        "ax.plot(values,t_sin3)\n",
        "\n",
        "ax.set_ylim([-2,2])\n",
        "ax.axhline(y=0.0, xmin=-5.0, xmax=10.0, color='black')\n",
        "ax.axvline(x=0.0, ymin=-10.0, ymax=10.0, color='black')\n",
        "ax.legend(legends)\n",
        "\n",
        "plt.show()"
      ],
      "execution_count": 40,
      "outputs": [
        {
          "output_type": "display_data",
          "data": {
            "text/plain": [
              "<Figure size 640x480 with 1 Axes>"
            ],
            "image/png": "[encoded data removed]"
          },
          "metadata": {}
        }
      ]
    },
    {
      "cell_type": "code",
      "metadata": {
        "colab": {
          "base_uri": "https://localhost:8080/",
          "height": 430
        },
        "id": "Z9AEeR_BPJCA",
        "outputId": "2109cac0-5607-4d81-c649-5907c269acad"
      },
      "source": [
        "import math\n",
        "import numpy as np\n",
        "import matplotlib.pyplot as plt\n",
        "# if using a Jupyter notebook, include:\n",
        "%matplotlib inline\n",
        "\n",
        "values = np.arange(-5,2*np.pi,0.1)\n",
        "p_sin = np.sin(values)\n",
        "t_sin4 = [taylor(sin(x), 0, 6).subs(x,v) for v in values]\n",
        "legends = ['sin() ','Taylor 5 (pol of order 5)']\n",
        "\n",
        "fig, ax = plt.subplots()\n",
        "ax.plot(values,p_sin, color ='yellow')\n",
        "ax.plot(values,t_sin4)\n",
        "\n",
        "ax.set_ylim([-5,5])\n",
        "ax.axhline(y=0.0, xmin=-5.0, xmax=5.0, color='black')\n",
        "ax.axvline(x=0.0, ymin=-10.0, ymax=10.0, color='black')\n",
        "ax.legend(legends)\n",
        "\n",
        "plt.show()"
      ],
      "execution_count": 41,
      "outputs": [
        {
          "output_type": "display_data",
          "data": {
            "text/plain": [
              "<Figure size 640x480 with 1 Axes>"
            ],
            "image/png": "[encoded data removed]"
          },
          "metadata": {}
        }
      ]
    },
    {
      "cell_type": "code",
      "metadata": {
        "id": "vLO9icMdPMmg",
        "colab": {
          "base_uri": "https://localhost:8080/",
          "height": 430
        },
        "outputId": "f07e9be5-cee7-4297-e9cb-45d3120f82bc"
      },
      "source": [
        "import math\n",
        "import numpy as np\n",
        "import matplotlib.pyplot as plt\n",
        "# if using a Jupyter notebook, include:\n",
        "%matplotlib inline\n",
        "\n",
        "values = np.arange(-5,5,0.1)\n",
        "p_sin = np.sin(values)\n",
        "t_sin1 = [taylor(sin(x), 0, 1).subs(x,v) for v in values]\n",
        "t_sin2 = [taylor(sin(x), 0, 2).subs(x,v) for v in values]\n",
        "t_sin3 = [taylor(sin(x), 0, 4).subs(x,v) for v in values]\n",
        "t_sin4 = [taylor(sin(x), 0, 6).subs(x,v) for v in values]\n",
        "legends = ['sin() ','Taylor 0 (constant)','Taylor 1 (linear)','Taylor 3 (cubic)','Taylor 5 (pol of order 5)']\n",
        "\n",
        "fig, ax = plt.subplots()\n",
        "ax.plot(values,p_sin)\n",
        "ax.plot(values,t_sin1)\n",
        "ax.plot(values,t_sin2)\n",
        "ax.plot(values,t_sin3)\n",
        "ax.plot(values,t_sin4)\n",
        "\n",
        "ax.set_ylim([-5,5])\n",
        "ax.axhline(y=0.0, xmin=-5.0, xmax=5.0, color='black')\n",
        "ax.axvline(x=0.0, ymin=-10.0, ymax=10.0, color='black')\n",
        "ax.legend(legends)\n",
        "\n",
        "plt.show()"
      ],
      "execution_count": 42,
      "outputs": [
        {
          "output_type": "display_data",
          "data": {
            "text/plain": [
              "<Figure size 640x480 with 1 Axes>"
            ],
            "image/png": "[encoded data removed]"
          },
          "metadata": {}
        }
      ]
    }
  ]
}