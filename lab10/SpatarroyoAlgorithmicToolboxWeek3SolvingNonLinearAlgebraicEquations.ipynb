{
  "nbformat": 4,
  "nbformat_minor": 0,
  "metadata": {
    "kernelspec": {
      "display_name": "Python 3",
      "language": "python",
      "name": "python3"
    },
    "language_info": {
      "codemirror_mode": {
        "name": "ipython",
        "version": 3
      },
      "file_extension": ".py",
      "mimetype": "text/x-python",
      "name": "python",
      "nbconvert_exporter": "python",
      "pygments_lexer": "ipython3",
      "version": "3.5.2"
    },
    "colab": {
      "provenance": []
    }
  },
  "cells": [
    {
      "cell_type": "markdown",
      "metadata": {
        "id": "h2TxjE6ST95B"
      },
      "source": [
        "# Part I. Root-finding. Newton's iteration."
      ]
    },
    {
      "cell_type": "markdown",
      "metadata": {
        "id": "_qFXBbLXT95F"
      },
      "source": [
        "Write a function which performs Newton's iteration for a given function $f(x)$ with known derivative $f'(x)$. Your function should find the root of $f(x)$ with a predefined absolute accuracy $\\epsilon$."
      ]
    },
    {
      "cell_type": "code",
      "metadata": {
        "collapsed": true,
        "id": "chRy1mRpT95F"
      },
      "source": [
        "def newton_iteration(f, fder, x0, eps=1e-5, maxiter=1000):\n",
        "    \"\"\"Find a root of $f(x) = 0$ via Newton's iteration starting from x0.\n",
        "\n",
        "    Parameters\n",
        "    ----------\n",
        "    f : callable\n",
        "        The function to find a root of.\n",
        "    fder : callable\n",
        "        The derivative of `f`.\n",
        "    x0 : float\n",
        "        Initial value for the Newton's iteration.\n",
        "    eps : float\n",
        "        The target accuracy.\n",
        "        The iteration stops when the distance between successive iterates is below `eps`.\n",
        "        Default is 1e-5.\n",
        "    maxiter : int\n",
        "        The maximum number of iterations (default is 1000.)\n",
        "        Iterations terminate if the number of iterations exceeds `maxiter`.\n",
        "        This parameter is only needed to avoid infinite loops if iterations wander off.\n",
        "\n",
        "    Returns\n",
        "    -------\n",
        "    x : float\n",
        "        The estimate for the root.\n",
        "    niter : int\n",
        "        The number of iterations.\n",
        "    \"\"\"\n",
        "    cur = x0 - f(x0)/fder(x0)\n",
        "    prev = x0\n",
        "\n",
        "    for _ in range(maxiter):\n",
        "        if(abs(cur-prev)<=eps):\n",
        "            break\n",
        "        prev = cur\n",
        "        cur = cur - f(cur)/fder(cur)\n",
        "\n",
        "    return cur"
      ],
      "execution_count": null,
      "outputs": []
    },
    {
      "cell_type": "markdown",
      "metadata": {
        "id": "qGsOVPqwT95G"
      },
      "source": [
        "### Test I.1\n",
        "\n",
        "Test your implementation on a simple example, $f(x) = x^2 - 1$ or similar. (20% of the total grade)"
      ]
    },
    {
      "cell_type": "code",
      "metadata": {
        "collapsed": true,
        "id": "ggan1StnT95H",
        "colab": {
          "base_uri": "https://localhost:8080/"
        },
        "outputId": "faf067bd-b159-4f29-9d43-eb428355dc9b"
      },
      "source": [
        "p = lambda x: x**2 - 1\n",
        "Dp = lambda x: 2*x\n",
        "approx = newton_iteration(p,Dp,1,1e-10,10)\n",
        "approx"
      ],
      "execution_count": null,
      "outputs": [
        {
          "output_type": "execute_result",
          "data": {
            "text/plain": [
              "1.0"
            ]
          },
          "metadata": {},
          "execution_count": 2
        }
      ]
    },
    {
      "cell_type": "markdown",
      "metadata": {
        "id": "wzkKQBL7T95H"
      },
      "source": [
        "### Test I.2\n",
        "\n",
        "Now consider a function which has a multiple root. Take $f(x) = (x^2 - 1)^2$ as an example. Implement a modified Newton's iteraion,\n",
        "\n",
        "$$\n",
        "x_{n+1} = x_{n} - m \\frac{f(x_n)}{f'(x_n)}\n",
        "$$\n",
        "\n",
        "and vary $m= 1, 2, 3, 4, 5$. Check the number of iterations required for convergence within a fixed $\\epsilon$. Are your observations consistent with the expectation that the convergence is quadratic is $m$ equals the multiplicity of the root, and is linear otherwise? (40% of the total grade)"
      ]
    },
    {
      "cell_type": "code",
      "metadata": {
        "collapsed": true,
        "id": "OIx5yP-9T95I"
      },
      "source": [
        "def el_newton(f, Df, x0, m=1, eps=1e-5, maxiter=1000):\n",
        "    xn = x0\n",
        "    for n in range(0,maxiter):\n",
        "        fxn = f(xn)\n",
        "        if abs(fxn) < eps:\n",
        "            print('Found solution after',n,'iterations.')\n",
        "            return xn\n",
        "        Dfxn = Df(xn)\n",
        "        if Dfxn == 0:\n",
        "            print('Zero derivative. No solution found.')\n",
        "            return None\n",
        "        xn = xn - (m*(fxn/Dfxn))\n",
        "    print('Exceeded maximum iterations. No solution found.')\n",
        "    return None"
      ],
      "execution_count": null,
      "outputs": []
    },
    {
      "cell_type": "code",
      "source": [
        "p = lambda x: (x-1)**2*(x+1)**2\n",
        "Dp = lambda x: 4*(x-1)*(x+1)*x\n",
        "approx = el_newton(p,Dp,1,1e-10,10,1)\n",
        "print(approx)"
      ],
      "metadata": {
        "colab": {
          "base_uri": "https://localhost:8080/"
        },
        "id": "tSpFAiudKIaU",
        "outputId": "f05d1b37-72b2-4044-f525-cb04a2a26a14"
      },
      "execution_count": null,
      "outputs": [
        {
          "output_type": "stream",
          "name": "stdout",
          "text": [
            "Found solution after 0 iterations.\n",
            "1\n"
          ]
        }
      ]
    },
    {
      "cell_type": "markdown",
      "metadata": {
        "id": "T9om2b1lT95I"
      },
      "source": [
        "# Part II. Fixed-point iteration"
      ]
    },
    {
      "cell_type": "markdown",
      "metadata": {
        "id": "urnNPsOKT95J"
      },
      "source": [
        "Consider the following equation:\n",
        "\n",
        "$$\n",
        "\\sqrt{x} = \\cos{x}\n",
        "$$\n",
        "\n",
        "Plot the left-hand side and right-hand side of this equation, and localize the root graphically. Estimate the location of the root by visual inspection of the plot.\n",
        "\n",
        "Write a function which finds the solution using fixed-point iteration up to a predefined accuracy $\\epsilon$. Compare the result to an estimate from a visual inspection.\n",
        "\n",
        "Next, rewrite the fixed-point problem in the form\n",
        "\n",
        "$$\n",
        "x = x - \\alpha f(x)\n",
        "$$\n",
        "\n",
        "where $\\alpha$ is the free parameter. Check the dependence of the number of iterations required for a given $\\epsilon$ on $\\alpha$. Compare your results to an expectation that the optimal value of $\\alpha$ is given by\n",
        "\n",
        "$$\n",
        "\\alpha = \\frac{2}{m + M}\n",
        "$$\n",
        "\n",
        "where $0 < m < |f'(x)| < M$ over the localization interval. (40% of the total grade)"
      ]
    },
    {
      "cell_type": "code",
      "metadata": {
        "collapsed": true,
        "id": "SOlb04UzT95K",
        "colab": {
          "base_uri": "https://localhost:8080/",
          "height": 300
        },
        "outputId": "06295772-5b65-4b37-83e4-c2991f90440f"
      },
      "source": [
        "import matplotlib.pyplot as plt\n",
        "import numpy as np\n",
        "x = np.linspace(0.5, 5, 50)\n",
        "\n",
        "plt.plot(x, np.sqrt(x), color = \"green\")\n",
        "plt.plot(x, np.cos(x), color = \"red\")\n",
        "plt.legend([1, 2], labels=[\"sqrt\", \"cos\"])\n",
        "\n",
        "\n",
        "plt.show()"
      ],
      "execution_count": null,
      "outputs": [
        {
          "output_type": "stream",
          "name": "stderr",
          "text": [
            "/usr/local/lib/python3.7/dist-packages/ipykernel_launcher.py:7: UserWarning: You have mixed positional and keyword arguments, some input may be discarded.\n",
            "  import sys\n"
          ]
        },
        {
          "output_type": "display_data",
          "data": {
            "text/plain": [
              "<Figure size 432x288 with 1 Axes>"
            ],
            "image/png": "[encoded data removed]"
          },
          "metadata": {
            "needs_background": "light"
          }
        }
      ]
    },
    {
      "cell_type": "markdown",
      "source": [
        "Vemos que la solucion esta en $[0.5,1]$ entonces, $f(x) = \\sqrt(x)-cos(x)$m luego $f'(x)= \\frac{1}{2\\cdot \\sqrt(x)}+sen(x)$, por lo tanto, $m = 1$ y $M = 2$"
      ],
      "metadata": {
        "id": "sFNEGiDsLCWN"
      }
    },
    {
      "cell_type": "code",
      "source": [
        "def f_p_sol(eps = 1e-5, alpha = 1):\n",
        "\n",
        "    prev = 1.5/2\n",
        "    cur = prev - alpha*(np.sqrt(prev) - np.cos(prev))\n",
        "    eps1 = abs(cur - prev)*10\n",
        "    num = 1\n",
        "\n",
        "    while abs(cur - prev)>0.25*eps and cur>0:\n",
        "        prev = cur\n",
        "        cur = cur - alpha*(np.sqrt(cur) - np.cos(cur))\n",
        "        num+=1\n",
        "\n",
        "    return cur, num"
      ],
      "metadata": {
        "id": "d8tmxcgwKyoz"
      },
      "execution_count": null,
      "outputs": []
    },
    {
      "cell_type": "code",
      "source": [
        "for i in [0.1, 0.5, 1.0, 2.0]:\n",
        "    print(i, f_p_sol(alpha = i))\n",
        "f_p_sol(alpha = 2.0/3)"
      ],
      "metadata": {
        "colab": {
          "base_uri": "https://localhost:8080/"
        },
        "id": "4m1k_QhyK3db",
        "outputId": "23e6c184-dea5-41c4-9f51-eca1e6c71dea"
      },
      "execution_count": null,
      "outputs": [
        {
          "output_type": "stream",
          "name": "stdout",
          "text": [
            "0.1 (0.6417314556204897, 67)\n",
            "0.5 (0.6417156095558334, 12)\n",
            "1.0 (0.6417142154160496, 9)\n",
            "2.0 (-0.11760568315221742, 5)\n"
          ]
        },
        {
          "output_type": "execute_result",
          "data": {
            "text/plain": [
              "(0.6417145071423276, 8)"
            ]
          },
          "metadata": {},
          "execution_count": 9
        }
      ]
    },
    {
      "cell_type": "markdown",
      "metadata": {
        "id": "WaEqb4_ST95K"
      },
      "source": [
        "# Part III. Newton's fractal.\n",
        "\n",
        "(Not graded).\n",
        "\n",
        "Consider the equation\n",
        "\n",
        "$$\n",
        "x^3 = 1\n",
        "$$\n",
        "\n",
        "It has three solutions in the complex plane, $x_k = \\exp(i\\, 2\\pi k/ 3)$, $k = 0, 1, 2$.\n",
        "\n",
        "The Newton's iterations converge to one of these solutions, depending on the starting point in the complex plane (to converge to a complex-valued solution, the iteration needs a complex-valued starting point).\n",
        "\n",
        "Plot the \\emph{basins of attraction} of these roots on the complex plane of $x$ (i.e., on the plane $\\mathrm{Re}x$ -- $\\mathrm{Im}x$). To this end, make a series of calculations, varying the initial conditions on a grid of points.\n",
        "Color the grid in three colors, according to the root, to which iterations converged."
      ]
    },
    {
      "cell_type": "code",
      "metadata": {
        "collapsed": true,
        "id": "WkOcvzD5T95K"
      },
      "source": [
        "import cmath\n",
        "\n",
        "def newt_frac(x0):\n",
        "\n",
        "    eps=1e-5\n",
        "    maxiter=1000\n",
        "    cur = x0 - (x0**3-1)/3*x0**2\n",
        "    prev = x0\n",
        "\n",
        "    for _ in range(maxiter):\n",
        "        if(abs(cur-prev)<=eps):\n",
        "            break\n",
        "        if(abs(cur-prev)>1e2):\n",
        "            return 0\n",
        "        prev = cur\n",
        "        cur = cur - (cur**3-1)/3*cur**2\n",
        "\n",
        "    if abs(cur-cmath.exp(complex(0,2*np.pi*1/3)))<abs(cur-cmath.exp(complex(0,2*np.pi*2/3))):\n",
        "        return 1\n",
        "    else :\n",
        "        return 2"
      ],
      "execution_count": null,
      "outputs": []
    },
    {
      "cell_type": "code",
      "source": [
        "x = np.linspace(-2, 2, 300)\n",
        "y = np.linspace(-2, 2, 300)\n",
        "\n",
        "for x0 in x:\n",
        "    for y0 in y:\n",
        "        fr = newt_frac(complex(x0,y0))\n",
        "        if fr==1:\n",
        "            plt.plot(x0, y0, marker='o', markersize=3, color='red')\n",
        "        elif fr==2:\n",
        "            plt.plot(x0, y0, marker='o', markersize=3, color='blue')\n",
        "\n",
        "roots_x = []\n",
        "roots_y = []\n",
        "for i in range(3):\n",
        "    z = cmath.exp(complex(0,2*np.pi*i/3))\n",
        "    roots_x.append(z.real)\n",
        "    roots_y.append(z.imag)\n",
        "\n",
        "plt.scatter(roots_x, roots_y, c='g')\n",
        "plt.show()"
      ],
      "metadata": {
        "colab": {
          "base_uri": "https://localhost:8080/",
          "height": 265
        },
        "id": "8NaUekrOMbs2",
        "outputId": "b6449d70-3551-4362-e2bd-97e4ed04413b"
      },
      "execution_count": null,
      "outputs": [
        {
          "output_type": "display_data",
          "data": {
            "text/plain": [
              "<Figure size 432x288 with 1 Axes>"
            ],
            "image/png": "[encoded data removed]"
          },
          "metadata": {
            "needs_background": "light"
          }
        }
      ]
    }
  ]
}