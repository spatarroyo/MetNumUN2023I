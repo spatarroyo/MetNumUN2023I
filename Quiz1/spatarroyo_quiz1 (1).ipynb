{
  "nbformat": 4,
  "nbformat_minor": 0,
  "metadata": {
    "colab": {
      "provenance": []
    },
    "kernelspec": {
      "name": "python3",
      "display_name": "Python 3"
    },
    "language_info": {
      "name": "python"
    }
  },
  "cells": [
    {
      "cell_type": "code",
      "execution_count": 1,
      "metadata": {
        "id": "g7eDMh4gVWUl"
      },
      "outputs": [],
      "source": [
        "def FizzBuzz(x):\n",
        "  if x%3 == 0 and x%5 != 0:\n",
        "    answer = \"Fizz!\"\n",
        "    return answer\n",
        "  if x%5 == 0 and x%3 != 0:\n",
        "    answer = \"Buzz!\"\n",
        "    return answer\n",
        "  if x%3 == 0 and x%5 == 0:\n",
        "    answer = \"FizzBuzz!\"\n",
        "    return answer\n",
        "  else:\n",
        "    answer = \"...\"\n",
        "    return answer"
      ]
    },
    {
      "cell_type": "code",
      "source": [
        "def FizzBuzzList(n):\n",
        "  ans = []\n",
        "  if n <= 0:\n",
        "      return []\n",
        "  for x in range(1,n+1):\n",
        "    if x%3 == 0 and x%5 != 0:\n",
        "      answer = \"Fizz!\"\n",
        "    elif x%5 == 0 and x%3 != 0:\n",
        "      answer = \"Buzz!\"\n",
        "    elif x%3 == 0 and x%5 == 0:\n",
        "      answer = \"FizzBuzz!\"\n",
        "    else:\n",
        "      answer = \"...\"\n",
        "    ans.append(answer)\n",
        "  return ans"
      ],
      "metadata": {
        "id": "_rdYfW6eVnKU"
      },
      "execution_count": 2,
      "outputs": []
    },
    {
      "cell_type": "code",
      "source": [
        "\n",
        "import numpy as np\n",
        "\n",
        "def standarize(X):\n",
        "  X_standarized =(X-np.mean(X))/np.std(X)\n",
        "  \n",
        "  return X_standarized"
      ],
      "metadata": {
        "id": "M3Kk3jobVvGL"
      },
      "execution_count": 3,
      "outputs": []
    },
    {
      "cell_type": "code",
      "source": [
        "import numpy as np\n",
        "\n",
        "def main_diagonal_matrix(A):\n",
        "  D = np.diag(np.diag(A.astype(float)))\n",
        "  return D"
      ],
      "metadata": {
        "id": "6bp-Jx4pV0-G"
      },
      "execution_count": null,
      "outputs": []
    }
  ]
}