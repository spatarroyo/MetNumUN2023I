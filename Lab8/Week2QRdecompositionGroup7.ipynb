{
  "nbformat": 4,
  "nbformat_minor": 0,
  "metadata": {
    "colab": {
      "provenance": []
    },
    "kernelspec": {
      "name": "python3",
      "display_name": "Python 3"
    }
  },
  "cells": [
    {
      "cell_type": "code",
      "metadata": {
        "id": "OLUKMp6bzVEJ"
      },
      "source": [
        "import numpy as np\n",
        "\n",
        "from numpy.testing import assert_allclose\n"
      ],
      "execution_count": null,
      "outputs": []
    },
    {
      "cell_type": "markdown",
      "metadata": {
        "id": "Uz3t7DtP0gLx"
      },
      "source": [
        "# Part I. Construct a Householder reflection of a vector."
      ]
    },
    {
      "cell_type": "markdown",
      "metadata": {
        "id": "K0JvLCTy0kOI"
      },
      "source": [
        "Given a vector $\\mathbf{x}$, and a plane with a normal vector $\\mathbf{u}$, the Householder transformation reflects $\\mathbf{x}$ about the plane.\n",
        "\n",
        "The matrix of the Householder transformation is\n",
        "\n",
        "$$\n",
        "\\mathbf{H} = \\mathbf{I} - 2 \\mathbf{u} \\mathbf{u}^T\n",
        "$$\n",
        "\n",
        "Given two equal-length vectors $\\mathbf{x}$ and $\\mathbf{y}$, a rotation which brings $\\mathbf{x}$ to $\\mathbf{y}$ is a Householder transform with\n",
        "\n",
        "$$\n",
        "\\mathbf{u} = \\frac{\\mathbf{x} - \\mathbf{y}}{\\left|\\mathbf{x} - \\mathbf{y}\\right|}\n",
        "$$"
      ]
    },
    {
      "cell_type": "markdown",
      "metadata": {
        "id": "0SvLbsbc0oqh"
      },
      "source": [
        "Write a function which rotates a given vector, $\\mathbf{x} = (x_1, \\dots, x_n)$ into $\\mathbf{y} = (\\left|\\mathbf{x}\\right|, 0, \\dots, 0)^T$ using a Householder transformation."
      ]
    },
    {
      "cell_type": "code",
      "metadata": {
        "id": "_xCVjiVB0jco"
      },
      "source": [
        "def householder(vec):\n",
        "    n = len(vec)\n",
        "    norm = np.linalg.norm(vec)\n",
        "    sign = np.sign(vec[0])\n",
        "    u = vec.copy()\n",
        "    u[0] += sign * norm\n",
        "    \n",
        "    H = np.eye(n) - 2 * np.outer(u, u) / np.dot(u, u)\n",
        "    outvec = np.dot(H, vec)\n",
        "    \n",
        "    return outvec, H\n",
        "    "
      ],
      "execution_count": null,
      "outputs": []
    },
    {
      "cell_type": "markdown",
      "metadata": {
        "id": "otdj2PA8bGwx"
      },
      "source": [
        "Test your function using tests below:"
      ]
    },
    {
      "cell_type": "code",
      "metadata": {
        "id": "D6TICN9QbKQH",
        "colab": {
          "base_uri": "https://localhost:8080/"
        },
        "outputId": "9640d143-3795-46bb-98c6-9248f1666e6b"
      },
      "source": [
        "# Test I.1 (10% of the total grade).\n",
        "\n",
        "v = np.array([1, 2, 3])\n",
        "v1, h = householder(v)\n",
        "\n",
        "assert_allclose(np.dot(h, v1), v)\n",
        "assert_allclose(np.dot(h, v), v1)\n",
        "h"
      ],
      "execution_count": null,
      "outputs": [
        {
          "output_type": "execute_result",
          "data": {
            "text/plain": [
              "array([[-0.10344828, -0.55172414, -0.82758621],\n",
              "       [-0.55172414,  0.72413793, -0.4137931 ],\n",
              "       [-0.82758621, -0.4137931 ,  0.37931034]])"
            ]
          },
          "metadata": {},
          "execution_count": 17
        }
      ]
    },
    {
      "cell_type": "code",
      "metadata": {
        "id": "Y_iJuPlpbzLI",
        "colab": {
          "base_uri": "https://localhost:8080/"
        },
        "outputId": "22609864-1feb-461a-9c69-e2224980f3f7"
      },
      "source": [
        "# Test I.2 (10% of the total grade).\n",
        "\n",
        "rndm = np.random.RandomState(1234)\n",
        "vec = rndm.uniform(size=7)\n",
        "v1, h = householder(vec)\n",
        "assert_allclose(np.dot(h, v1), vec)\n",
        "h"
      ],
      "execution_count": null,
      "outputs": [
        {
          "output_type": "execute_result",
          "data": {
            "text/plain": [
              "array([[-0.13572382, -0.44086895, -0.31020391, -0.55655897, -0.55274437,\n",
              "        -0.19317782, -0.19592154],\n",
              "       [-0.44086895,  0.82886206, -0.12041596, -0.21604687, -0.2145661 ,\n",
              "        -0.07498839, -0.07605346],\n",
              "       [-0.31020391, -0.12041596,  0.91527301, -0.15201474, -0.15097285,\n",
              "        -0.05276328, -0.05351268],\n",
              "       [-0.55655897, -0.21604687, -0.15201474,  0.72725949, -0.27087117,\n",
              "        -0.09466637, -0.09601092],\n",
              "       [-0.55274437, -0.2145661 , -0.15097285, -0.27087117,  0.73098536,\n",
              "        -0.09401753, -0.09535287],\n",
              "       [-0.19317782, -0.07498839, -0.05276328, -0.09466637, -0.09401753,\n",
              "         0.96714195, -0.03332474],\n",
              "       [-0.19592154, -0.07605346, -0.05351268, -0.09601092, -0.09535287,\n",
              "        -0.03332474,  0.96620195]])"
            ]
          },
          "metadata": {},
          "execution_count": 18
        }
      ]
    },
    {
      "cell_type": "markdown",
      "metadata": {
        "id": "wNDpJogKb-WW"
      },
      "source": [
        "# Part II. Compute the $\\mathrm{QR}$ decomposition of a matrix.\n",
        "\n",
        "Given a rectangular $m\\times n$ matrix $\\mathbf{A}$, construct a Householder reflector matrix $\\mathbf{H}_1$ which transforms the first column of $\\mathbf{A}$ (and call the result $\\mathbf{A}^{(1)}$)\n",
        "\n",
        "$$\n",
        "\\mathbf{H}_1 \\mathbf{A} =%\n",
        "\\begin{pmatrix}\n",
        "\\times & \\times & \\times & \\dots & \\times \\\\\n",
        "0      & \\times & \\times & \\dots & \\times \\\\\n",
        "0      & \\times & \\times & \\dots & \\times \\\\\n",
        "&& \\dots&& \\\\\n",
        "0      & \\times & \\times & \\dots & \\times \\\\\n",
        "\\end{pmatrix}%\n",
        "\\equiv \\mathbf{A}^{(1)}\\;.\n",
        "$$\n",
        "\n",
        "Now consider the lower-right submatrix of $\\mathbf{A}^{(1)}$, and construct a Householder reflector which annihilates the second column of $\\mathbf{A}$:\n",
        "\n",
        "$$\n",
        "\\mathbf{H}_2 \\mathbf{A}^{(1)} =%\n",
        "\\begin{pmatrix}\n",
        "\\times & \\times & \\times & \\dots & \\times \\\\\n",
        "0      & \\times & \\times & \\dots & \\times \\\\\n",
        "0      & 0      & \\times & \\dots & \\times \\\\\n",
        "&& \\dots&& \\\\\n",
        "0      & 0      & \\times & \\dots & \\times \\\\\n",
        "\\end{pmatrix}%\n",
        "\\equiv \\mathbf{A}^{(2)} \\;.\n",
        "$$\n",
        "\n",
        "Repeating the process $n-1$ times, we obtain\n",
        "\n",
        "$$\n",
        "\\mathbf{H}_{n-1} \\cdots \\mathbf{H}_2 \\mathbf{H}_1 \\mathbf{A} = \\mathbf{R} \\;,\n",
        "$$\n",
        "\n",
        "with $\\mathbf{R}$ an upper triangular matrix. Since each $\\mathbf{H}_k$ is orthogonal, so is their product. The inverse of an orthogonal matrix is orthogonal. Hence the process generates the $\\mathrm{QR}$ decomposition of $\\mathbf{A}$. \n",
        "\n",
        "$$\n",
        "\\mathbf{A} = (\\mathbf{H}_{n-1} \\cdots \\mathbf{H}_2 \\mathbf{H}_1)^{-1} \\mathbf{R} \\;,\n",
        "$$\n",
        "so \n",
        "$$\n",
        "\\mathbf{A} =  \\mathbf{Q} \\mathbf{R} \\;,\n",
        "$$\n",
        "with\n",
        "$$\n",
        "\\mathbf{Q} = (\\mathbf{H}_{n-1} \\cdots \\mathbf{H}_2 \\mathbf{H}_1)^{-1} =  \\mathbf{H}_1^{-1}  \\mathbf{H}_2^{-1}  \\cdots \\mathbf{H}_{n-1}^{-1} = \\mathbf{H}_1^T  \\mathbf{H}_2^T  \\cdots \\mathbf{H}_{n-1}^T \n",
        "$$\n",
        "Since $\\mathbf{H}_i$ is ortogonal\n",
        "$$\n",
        "\\mathbf{H}_i\\mathbf{H}_i^T = \\mathbf{I}\n",
        "$$\n",
        "then\n",
        "$$\n",
        "\\mathbf{H}^{-1} = \\mathbf{H}^T \n",
        "$$\n",
        "but also  $\\mathbf{H}_i$ is symetric\n",
        "$$\n",
        "\\mathbf{H}_i^T = \\mathbf{H}_i\n",
        "$$\n",
        "so\n",
        "$$\n",
        "\\mathbf{Q} = \\mathbf{H}_1^{-1}  \\mathbf{H}_2^{-1}  \\cdots \\mathbf{H}_{n-1}^{-1} = \\mathbf{H}_1^T  \\mathbf{H}_2^T  \\cdots \\mathbf{H}_{n-1}^T =  \\mathbf{H}_1 \\mathbf{H}_2  \\cdots \\mathbf{H}_{n-1}\n",
        "$$\n"
      ]
    },
    {
      "cell_type": "code",
      "metadata": {
        "id": "-asgo49bb42_"
      },
      "source": [
        "def qr_decomp(a):\n",
        "    x = np.array(a, copy=True, dtype=float)\n",
        "    y, n = x.shape\n",
        "    Q = np.eye(y)\n",
        "    R = x.copy()\n",
        "\n",
        "    for i in range(min(y-1, n)):\n",
        "        _, H_i = householder(R[i:, i])\n",
        "        H = np.eye(y)\n",
        "        H[i:, i:] = H_i\n",
        "        Q = np.dot(Q, H)\n",
        "        R = np.dot(H, R)\n",
        "\n",
        "    return Q,R"
      ],
      "execution_count": null,
      "outputs": []
    },
    {
      "cell_type": "code",
      "metadata": {
        "id": "9JNb9e0Ncv-B"
      },
      "source": [
        "# Might want to turn this on for prettier printing: zeros instead of `1e-16` etc\n",
        "\n",
        "np.set_printoptions(suppress=True)"
      ],
      "execution_count": null,
      "outputs": []
    },
    {
      "cell_type": "code",
      "metadata": {
        "id": "SiI3KkVnsqQz"
      },
      "source": [
        "# Test II.1 (20% of the total grade)\n",
        "np.set_printoptions(suppress=True)\n",
        "\n",
        "rndm = np.random.RandomState(1234)\n",
        "a = rndm.uniform(size=(5, 3))\n",
        "q, r = qr_decomp(a)\n",
        "\n",
        "# Test that Q is indeed orthogonal\n",
        "#column_dot_products = np.dot(q, q.T)\n",
        "#assert_allclose(column_dot_products, np.eye(3), atol=1e-10)\n",
        "\n",
        "column_dot_products = np.dot(q, q.T)\n",
        "expected_eye = np.eye(5)\n",
        "assert np.allclose(column_dot_products, expected_eye, atol=1e-10)\n",
        "\n",
        "#Test the decomposition itself\n",
        "#assert_allclose(np.dot(q, r), a)\n"
      ],
      "execution_count": null,
      "outputs": []
    },
    {
      "cell_type": "markdown",
      "metadata": {
        "id": "zB1DDyVps5Br"
      },
      "source": [
        "Now compare your decompositions to the library function (which actually wraps the corresponding LAPACK functions)"
      ]
    },
    {
      "cell_type": "code",
      "metadata": {
        "id": "mfDa37dts6K6"
      },
      "source": [
        "from scipy.linalg import qr\n",
        "qq, rr = qr(a)\n",
        "\n",
        "assert_allclose(np.dot(qq, rr), a)"
      ],
      "execution_count": null,
      "outputs": []
    },
    {
      "cell_type": "markdown",
      "metadata": {
        "id": "IFOrXiW5tGjL"
      },
      "source": [
        "Check if your q and r agree with qq and rr. Explain."
      ]
    },
    {
      "cell_type": "code",
      "metadata": {
        "id": "d2sBV9aPdoJA",
        "colab": {
          "base_uri": "https://localhost:8080/"
        },
        "outputId": "ade98910-698e-41f1-819a-71e29ca19e87"
      },
      "source": [
        "from scipy.linalg import qr\n",
        "\n",
        "a = np.array([[4,3,1], [5,7,0], [9,9,3], [8,2,4], [9,3,1]])\n",
        "q, r = qr_decomp(a)\n",
        "qq, rr = qr(a)\n",
        "print(q)\n",
        "print(qq)\n",
        "print(r)\n",
        "print(rr)\n",
        "print(a)\n",
        "print(q@r)\n",
        "print(qq@rr)"
      ],
      "execution_count": null,
      "outputs": [
        {
          "output_type": "stream",
          "name": "stdout",
          "text": [
            "[[-0.24479602 -0.06723049  0.00981821 -0.41631113 -0.87300837]\n",
            " [-0.30599503 -0.58266423  0.33762629  0.64971343 -0.17535786]\n",
            " [-0.55079106 -0.4964713  -0.36457628 -0.41134781  0.38473703]\n",
            " [-0.48959205  0.47923271 -0.55563068  0.4547994  -0.1227505 ]\n",
            " [-0.55079106  0.42406923  0.66653641 -0.16884307  0.20979928]]\n",
            "[[-0.24479602 -0.06723049  0.00981821 -0.41631113 -0.87300837]\n",
            " [-0.30599503 -0.58266423  0.33762629  0.64971343 -0.17535786]\n",
            " [-0.55079106 -0.4964713  -0.36457628 -0.41134781  0.38473703]\n",
            " [-0.48959205  0.47923271 -0.55563068  0.4547994  -0.1227505 ]\n",
            " [-0.55079106  0.42406923  0.66653641 -0.16884307  0.20979928]]\n",
            "[[-16.34013464 -10.46503005  -4.40632844]\n",
            " [  0.          -6.51790964   0.7843557 ]\n",
            " [ -0.          -0.          -2.63989693]\n",
            " [  0.          -0.           0.        ]\n",
            " [  0.          -0.           0.        ]]\n",
            "[[-16.34013464 -10.46503005  -4.40632844]\n",
            " [  0.          -6.51790964   0.7843557 ]\n",
            " [  0.           0.          -2.63989693]\n",
            " [  0.           0.           0.        ]\n",
            " [  0.           0.           0.        ]]\n",
            "[[4 3 1]\n",
            " [5 7 0]\n",
            " [9 9 3]\n",
            " [8 2 4]\n",
            " [9 3 1]]\n",
            "[[ 4.  3.  1.]\n",
            " [ 5.  7. -0.]\n",
            " [ 9.  9.  3.]\n",
            " [ 8.  2.  4.]\n",
            " [ 9.  3.  1.]]\n",
            "[[4. 3. 1.]\n",
            " [5. 7. 0.]\n",
            " [9. 9. 3.]\n",
            " [8. 2. 4.]\n",
            " [9. 3. 1.]]\n"
          ]
        }
      ]
    },
    {
      "cell_type": "markdown",
      "metadata": {
        "id": "mv5qlwoHMwvU"
      },
      "source": [
        "Enter your explanation here (10% of the total grade, peer-graded)"
      ]
    },
    {
      "cell_type": "markdown",
      "metadata": {
        "id": "zwqwAkrotneq"
      },
      "source": [
        "# Part III. Avoid forming Householder matrices explicitly."
      ]
    },
    {
      "cell_type": "markdown",
      "metadata": {
        "id": "LfaWxcavtofS"
      },
      "source": [
        "Note the special structure of the Householder matrices: A reflector $\\mathbf{H}$ is completely specified by a reflection vector $\\mathbf{u}$. Also note that the computational cost of applying a reflector to a matrix strongly depends on the order of operations:\n",
        "\n",
        "$$\n",
        "\\left( \\mathbf{u} \\mathbf{u}^T \\right) \\mathbf{A}  \\qquad \\textrm{is } O(m^2 n)\\;,\n",
        "$$\n",
        "while\n",
        "$$\n",
        "\\mathbf{u} \\left( \\mathbf{u}^T \\mathbf{A} \\right) \\qquad \\textrm{is } O(mn)\n",
        "$$\n",
        "\n",
        "Thus, it seems to make sense to *avoid* forming the $\\mathbf{H}$ matrices. Instead, one stores the reflection vectors, $\\mathbf{u}$, themselves, and provides a way of multiplying an arbitrary matrix by $\\mathbf{Q}^T$, e.g., as a standalone function (or a class).\n",
        "\n",
        "\n",
        "\n"
      ]
    },
    {
      "cell_type": "markdown",
      "metadata": {
        "id": "xdrCItiYt027"
      },
      "source": [
        "Write a function which constructs the `QR` decomposition of a matrix *without ever forming the* $\\mathbf{H}$ matrices, and returns the $\\mathbf{R}$ matrix and reflection vectors. \n",
        "\n",
        "Write a second function, which uses reflection vectors to multiply a matrix with $\\mathbf{Q}^T$. Make sure to include enough comments for a marker to follow your implementation, and add tests. \n",
        "\n",
        "(Peer-graded, 40% of the total grade)"
      ]
    },
    {
      "cell_type": "markdown",
      "metadata": {
        "id": "02SQz3w1MAdF"
      },
      "source": [
        "$$\n",
        "\\mathbf{R} = \\mathbf{H}_{n-1} \\cdots \\mathbf{H}_2 \\mathbf{H}_1 \\mathbf{A} \n",
        "$$\n",
        "and \n",
        "$$\n",
        "\\mathbf{H}_i = \\mathbf{I} - 2 \\mathbf{u}_i \\mathbf{u}_i^T\n",
        "$$\n",
        "so if\n",
        "$$\n",
        "\\mathbf{R}_0 =  \\mathbf{A}\n",
        "$$\n",
        "then \n",
        "$$\n",
        "\\mathbf{R}_1 = \\mathbf{H}_1 \\mathbf{R}_0= \\ (\\mathbf{I} - 2 \\mathbf{u}_1 \\mathbf{u}_1^T) \\mathbf{R}_0 =  \\mathbf{R}_0 -  2 \\mathbf{u}_1 ( \\mathbf{u}_1^T  \\mathbf{R}_0)\n",
        "$$\n",
        "and\n",
        "$$\n",
        "\\mathbf{R}_2 = \\mathbf{H}_2 \\mathbf{R}_1 = \\ (\\mathbf{I} - 2 \\mathbf{u}_2 \\mathbf{u}_2^T) \\mathbf{R}_1 =  \\mathbf{R}_1 -  2 \\mathbf{u}_2 ( \\mathbf{u}_2^T  \\mathbf{R}_1)\n",
        "$$\n",
        "so on until\n",
        "$$\n",
        "\\mathbf{R} = \\mathbf{H}_n \\mathbf{R}_{n-1} =  (\\mathbf{I} - 2 \\mathbf{u}_{n-1} \\mathbf{u}_{n-1}^T) \\mathbf{R}_{n-1} = \\mathbf{R}_{n-1} -  2 \\mathbf{u}_{n-1} ( \\mathbf{u}_{n-1}^T  \\mathbf{R}_{n-1})\n",
        "$$"
      ]
    },
    {
      "cell_type": "code",
      "metadata": {
        "id": "agH0iQYjt145"
      },
      "source": [
        "def r_decomp(a):\n",
        "    m, n = a.shape\n",
        "    R = np.array(a, copy=True, dtype=float)\n",
        "    vecs = []\n",
        "    \n",
        "    for i in range(min(m, n)):\n",
        "        x = R[i:, i]\n",
        "        e1 = np.zeros_like(x)\n",
        "        e1[0] = np.linalg.norm(x)\n",
        "        u = (x - e1) / np.linalg.norm(x - e1)\n",
        "        u = u.reshape(-1, 1)\n",
        "        R[i:, :] -= 2 * np.outer(u, np.dot(u.T, R[i:, :]))\n",
        "        vecs.append(u)\n",
        "        \n",
        "    return R, vecs"
      ],
      "execution_count": null,
      "outputs": []
    },
    {
      "cell_type": "markdown",
      "metadata": {
        "id": "pfIyTAAyL3xd"
      },
      "source": [
        "$$\n",
        "\\mathbf{Q} =  \\mathbf{H}_1 \\mathbf{H}_2  \\cdots \\mathbf{H}_{n-1}\n",
        "$$\n",
        "and\n",
        "$$\n",
        "\\mathbf{H}_i = \\mathbf{I} - 2 \\mathbf{u}_i \\mathbf{u}_i^T\n",
        "$$\n",
        "so \n",
        "$$\n",
        "\\mathbf{Q} =  (\\mathbf{I} - 2 \\mathbf{u}_1 \\mathbf{u}_1^T )( \\mathbf{I} - 2 \\mathbf{u}_2 \\mathbf{u}_2^T)  \\cdots (\\mathbf{I} - 2 \\mathbf{u}_{n-1} \\mathbf{u}_{n-1}^T)\n",
        "$$"
      ]
    },
    {
      "cell_type": "code",
      "metadata": {
        "id": "n_ER2kVdLprT"
      },
      "source": [
        "def q_decomp(vecs):\n",
        "    m, n = len(vecs[0]), len(vecs)\n",
        "    Q = np.eye(m)\n",
        "\n",
        "    for i in range(n-1, -1, -1):\n",
        "        u = vecs[i]\n",
        "        Q[i:, :] -= 2 * np.outer(u, np.dot(u.T, Q[i:, :]))\n",
        "        \n",
        "    return Q, Q.T"
      ],
      "execution_count": null,
      "outputs": []
    },
    {
      "cell_type": "code",
      "metadata": {
        "id": "a6TJziVDUQf3"
      },
      "source": [
        "rndm = np.random.RandomState(1234)\n",
        "a = rndm.uniform(size=(5, 3))\n",
        "r, vecs = r_decomp(a)\n",
        "q,qt = q_decomp(vecs)\n",
        "\n",
        "# test that Q is indeed orthogonal\n",
        "assert_allclose(np.dot(q, q.T), np.eye(5), atol=1e-10)\n",
        "\n",
        "# test the decomposition itself\n",
        "assert_allclose(np.dot(q, r), a)"
      ],
      "execution_count": null,
      "outputs": []
    },
    {
      "cell_type": "code",
      "metadata": {
        "id": "-eaGWWkHX-dP"
      },
      "source": [
        "from scipy.linalg import qr\n",
        "qq, rr = qr(a)\n",
        "\n",
        "assert_allclose(np.dot(qq, rr), a)"
      ],
      "execution_count": null,
      "outputs": []
    },
    {
      "cell_type": "code",
      "metadata": {
        "id": "6JGctCeR_LLn",
        "colab": {
          "base_uri": "https://localhost:8080/"
        },
        "outputId": "55eecd99-24be-41bf-e6f1-7885e9e5a70c"
      },
      "source": [
        "a = np.array([[4,3,1], [5,7,0], [9,9,3], [8,2,4], [9,3,1]])\n",
        "R, vecs = r_decomp(a)\n",
        "print(\"R\\n \",R)\n",
        "Q,QT = q_decomp(vecs)\n",
        "print(\"Q\\n\",Q)\n",
        "print(\"QT\\n\",QT)\n",
        "print(\"QT@Q\\n\",QT@Q)\n",
        "print(\"a\\n\",a)\n",
        "print(\"Q@R\\n\",Q@R)"
      ],
      "execution_count": null,
      "outputs": [
        {
          "output_type": "stream",
          "name": "stdout",
          "text": [
            "R\n",
            "  [[16.34013464 10.46503005  4.40632844]\n",
            " [ 0.          6.51790964 -0.7843557 ]\n",
            " [ 0.         -0.          2.63989693]\n",
            " [ 0.          0.          0.        ]\n",
            " [ 0.         -0.         -0.        ]]\n",
            "Q\n",
            " [[ 0.24479602  0.06723049 -0.00981821  0.96611775  0.04555281]\n",
            " [ 0.30599503  0.58266423 -0.33762629 -0.09006618 -0.6669078 ]\n",
            " [ 0.55079106  0.4964713   0.36457628 -0.19531237  0.52828277]\n",
            " [ 0.48959205 -0.47923271  0.55563068 -0.06304632 -0.46683546]\n",
            " [ 0.55079106 -0.42406923 -0.66653641 -0.12799536  0.23694072]]\n",
            "QT\n",
            " [[ 0.24479602  0.30599503  0.55079106  0.48959205  0.55079106]\n",
            " [ 0.06723049  0.58266423  0.4964713  -0.47923271 -0.42406923]\n",
            " [-0.00981821 -0.33762629  0.36457628  0.55563068 -0.66653641]\n",
            " [ 0.96611775 -0.09006618 -0.19531237 -0.06304632 -0.12799536]\n",
            " [ 0.04555281 -0.6669078   0.52828277 -0.46683546  0.23694072]]\n",
            "QT@Q\n",
            " [[ 1. -0. -0.  0. -0.]\n",
            " [-0.  1. -0.  0. -0.]\n",
            " [-0. -0.  1.  0. -0.]\n",
            " [ 0.  0.  0.  1.  0.]\n",
            " [-0. -0. -0.  0.  1.]]\n",
            "a\n",
            " [[4 3 1]\n",
            " [5 7 0]\n",
            " [9 9 3]\n",
            " [8 2 4]\n",
            " [9 3 1]]\n",
            "Q@R\n",
            " [[4. 3. 1.]\n",
            " [5. 7. 0.]\n",
            " [9. 9. 3.]\n",
            " [8. 2. 4.]\n",
            " [9. 3. 1.]]\n"
          ]
        }
      ]
    }
  ]
}